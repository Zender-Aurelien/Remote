{
  "nbformat": 4,
  "nbformat_minor": 0,
  "metadata": {
    "kernelspec": {
      "display_name": "Python 3",
      "language": "python",
      "name": "python3"
    },
    "language_info": {
      "codemirror_mode": {
        "name": "ipython",
        "version": 3
      },
      "file_extension": ".py",
      "mimetype": "text/x-python",
      "name": "python",
      "nbconvert_exporter": "python",
      "pygments_lexer": "ipython3",
      "version": "3.6.6"
    },
    "colab": {
      "provenance": []
    }
  },
  "cells": [
    {
      "cell_type": "markdown",
      "metadata": {
        "id": "EeUIUWVK75zR"
      },
      "source": [
        "##Knowlegde Check - 2\n"
      ]
    },
    {
      "cell_type": "markdown",
      "metadata": {
        "id": "5-1haVuV75zS"
      },
      "source": [
        "## Question# 1\n",
        "\n",
        "Points : 5 *italicized text*\n",
        "\n",
        "Write a function that returns the smallest of two even numbers, if both numbers are even and, the greater if one or both numbers are odd\n",
        "   \n",
        "                   lesser_of_two_evens(2,4) --> 2\n",
        "                   lesser_of_two_evens(2,5) --> 5"
      ]
    },
    {
      "cell_type": "code",
      "metadata": {
        "collapsed": true,
        "id": "0dDpOctA75zT"
      },
      "source": [
        "def smallest_of_two_evens(a,b):\n",
        "    if a%2==0 and b%2==0:\n",
        "      if a>b:\n",
        "        return b\n",
        "      else:\n",
        "        return a\n",
        "    else:\n",
        "      if a%2!=0 or b%2!=0:\n",
        "        if a>b:\n",
        "          return a\n",
        "        else:\n",
        "          return b\n",
        ""
      ],
      "execution_count": 1,
      "outputs": []
    },
    {
      "cell_type": "code",
      "metadata": {
        "collapsed": true,
        "id": "TOqxVEyo75zT",
        "colab": {
          "base_uri": "https://localhost:8080/"
        },
        "outputId": "ce578800-a4c4-4e55-9bd9-9f7140296c84"
      },
      "source": [
        "# Check1\n",
        "smallest_of_two_evens(2,4)"
      ],
      "execution_count": 2,
      "outputs": [
        {
          "output_type": "execute_result",
          "data": {
            "text/plain": [
              "2"
            ]
          },
          "metadata": {},
          "execution_count": 2
        }
      ]
    },
    {
      "cell_type": "code",
      "metadata": {
        "collapsed": true,
        "id": "AdTCl-Go75zU",
        "colab": {
          "base_uri": "https://localhost:8080/"
        },
        "outputId": "58029d6c-9625-4f66-9c69-0be74309a1fe"
      },
      "source": [
        "# Check2\n",
        "smallest_of_two_evens(2,5)"
      ],
      "execution_count": 3,
      "outputs": [
        {
          "output_type": "execute_result",
          "data": {
            "text/plain": [
              "5"
            ]
          },
          "metadata": {},
          "execution_count": 3
        }
      ]
    },
    {
      "cell_type": "markdown",
      "metadata": {
        "id": "HRbQR0ka75zU"
      },
      "source": [
        "## Question# 2\n",
        "\n",
        "Points : 5\n",
        "\n",
        "Write a function takes a two-word string and returns True if both words begin with same letter.\n",
        "\n",
        "            word_crackers('Lion', 'Lady') --> True\n",
        "            word_crackers('Crazy', 'Drink') --> False"
      ]
    },
    {
      "cell_type": "code",
      "metadata": {
        "collapsed": true,
        "id": "QBFQi-X175zV"
      },
      "source": [
        "def word_crackers(word1,word2):\n",
        "    return word1[0]==word2[0]"
      ],
      "execution_count": 4,
      "outputs": []
    },
    {
      "cell_type": "code",
      "metadata": {
        "collapsed": true,
        "id": "OrUKLE2o75zV",
        "colab": {
          "base_uri": "https://localhost:8080/"
        },
        "outputId": "6ba88e59-5e3a-4e75-8163-7876ea50f247"
      },
      "source": [
        "# Check1\n",
        "word_crackers('Lion', 'Lady')"
      ],
      "execution_count": 5,
      "outputs": [
        {
          "output_type": "execute_result",
          "data": {
            "text/plain": [
              "True"
            ]
          },
          "metadata": {},
          "execution_count": 5
        }
      ]
    },
    {
      "cell_type": "code",
      "metadata": {
        "collapsed": true,
        "id": "OKmWGoaN75zW",
        "colab": {
          "base_uri": "https://localhost:8080/"
        },
        "outputId": "bbba72e4-54bb-474e-b7c6-db7f4cc86322"
      },
      "source": [
        "# Check2\n",
        "word_crackers('Crazy', 'Drink')"
      ],
      "execution_count": 6,
      "outputs": [
        {
          "output_type": "execute_result",
          "data": {
            "text/plain": [
              "False"
            ]
          },
          "metadata": {},
          "execution_count": 6
        }
      ]
    },
    {
      "cell_type": "markdown",
      "metadata": {
        "id": "dTXH0FDi75zW"
      },
      "source": [
        "## Question# 3\n",
        "\n",
        "Points : 5\n",
        "\n",
        "Given two integers, return True if the sum of the integers is 20 *or* if one of the integers is 20. If not, return False\n",
        "\n",
        "    sum_twenty(20,10) --> True\n",
        "    sum_twenty(12,8) --> True\n",
        "    sum_twenty(2,3) --> False"
      ]
    },
    {
      "cell_type": "code",
      "metadata": {
        "collapsed": true,
        "id": "dpE6nfTH75zW"
      },
      "source": [
        "def sum_twenty(n1,n2):\n",
        "    if n1+n2==20 or (n1 or n2)==20:\n",
        "      return True\n",
        "    else:\n",
        "      return False\n",
        ""
      ],
      "execution_count": 7,
      "outputs": []
    },
    {
      "cell_type": "code",
      "metadata": {
        "collapsed": true,
        "id": "EbGjQmGS75zW",
        "colab": {
          "base_uri": "https://localhost:8080/"
        },
        "outputId": "404f7ca7-2d30-4081-8da5-5d45dd8c6987"
      },
      "source": [
        "# Check1\n",
        "sum_twenty(20,10)"
      ],
      "execution_count": 8,
      "outputs": [
        {
          "output_type": "execute_result",
          "data": {
            "text/plain": [
              "True"
            ]
          },
          "metadata": {},
          "execution_count": 8
        }
      ]
    },
    {
      "cell_type": "code",
      "metadata": {
        "collapsed": true,
        "id": "dIsHz1Gz75zX",
        "colab": {
          "base_uri": "https://localhost:8080/"
        },
        "outputId": "f236adee-8238-4442-e68e-977694d0d05c"
      },
      "source": [
        "# Check2\n",
        "sum_twenty(2,3)"
      ],
      "execution_count": 9,
      "outputs": [
        {
          "output_type": "execute_result",
          "data": {
            "text/plain": [
              "False"
            ]
          },
          "metadata": {},
          "execution_count": 9
        }
      ]
    },
    {
      "cell_type": "markdown",
      "metadata": {
        "id": "y-LhSm8J75zX"
      },
      "source": [
        "## Question# 4\n",
        "\n",
        "Points : 5\n",
        "\n",
        "Write a function that capitalizes the first and fourth letters of a name\n",
        "     \n",
        "    cap_first_four('macdonald') --> MacDonald\n"
      ]
    },
    {
      "cell_type": "code",
      "metadata": {
        "collapsed": true,
        "id": "4A1VE97r75zX"
      },
      "source": [
        "def cap_first_four(name):\n",
        "    chars=list(name)\n",
        "    chars[0]=chars[0].upper()\n",
        "    chars[3]=chars[3].upper()\n",
        "    return \"\".join(chars)"
      ],
      "execution_count": 32,
      "outputs": []
    },
    {
      "cell_type": "code",
      "metadata": {
        "collapsed": true,
        "id": "xhjCfgwF75zX",
        "colab": {
          "base_uri": "https://localhost:8080/",
          "height": 35
        },
        "outputId": "fb1b9bbf-c71f-49b6-f22e-e33a57540be4"
      },
      "source": [
        "# Check\n",
        "cap_first_four(\"macdonald\")\n",
        "\n"
      ],
      "execution_count": 33,
      "outputs": [
        {
          "output_type": "execute_result",
          "data": {
            "text/plain": [
              "'MacDonald'"
            ],
            "application/vnd.google.colaboratory.intrinsic+json": {
              "type": "string"
            }
          },
          "metadata": {},
          "execution_count": 33
        }
      ]
    },
    {
      "cell_type": "markdown",
      "metadata": {
        "id": "DFOpc81H75zY"
      },
      "source": [
        "## Question# 5\n",
        "\n",
        "Points : 5\n",
        "\n",
        "Given a sentence, return a sentence with the words reversed\n",
        "\n",
        "    rev_words('I am home') --> 'home am I'\n",
        "    rev_words('We are ready') --> 'ready are We'\n",
        "    \n",
        "Note: The .join() method may be useful here. The .join() method allows you to join.\n",
        "\n",
        "    \" \".join(['Hello','world'])\n",
        "    \"Hello world\""
      ]
    },
    {
      "cell_type": "code",
      "metadata": {
        "collapsed": true,
        "id": "3FVzZTFA75zY"
      },
      "source": [
        "def rev_words(text):\n",
        "    words=text.split()\n",
        "    words2=words[::-1]\n",
        "    return \" \".join(words2)"
      ],
      "execution_count": 40,
      "outputs": []
    },
    {
      "cell_type": "code",
      "metadata": {
        "collapsed": true,
        "id": "LAuWsFRa75zY",
        "colab": {
          "base_uri": "https://localhost:8080/",
          "height": 35
        },
        "outputId": "c3cd5c14-b8dd-4f53-d6b8-5dba7b0bad1f"
      },
      "source": [
        "# Check1\n",
        "rev_words('I am home')"
      ],
      "execution_count": 41,
      "outputs": [
        {
          "output_type": "execute_result",
          "data": {
            "text/plain": [
              "'home am I'"
            ],
            "application/vnd.google.colaboratory.intrinsic+json": {
              "type": "string"
            }
          },
          "metadata": {},
          "execution_count": 41
        }
      ]
    },
    {
      "cell_type": "code",
      "metadata": {
        "collapsed": true,
        "id": "idtYNRCX75zZ",
        "colab": {
          "base_uri": "https://localhost:8080/",
          "height": 35
        },
        "outputId": "e37cd96b-dfdf-4d6e-9883-ab0f3566a6b6"
      },
      "source": [
        "# Check2\n",
        "rev_words('We are ready')"
      ],
      "execution_count": 42,
      "outputs": [
        {
          "output_type": "execute_result",
          "data": {
            "text/plain": [
              "'ready are We'"
            ],
            "application/vnd.google.colaboratory.intrinsic+json": {
              "type": "string"
            }
          },
          "metadata": {},
          "execution_count": 42
        }
      ]
    },
    {
      "cell_type": "markdown",
      "metadata": {
        "id": "KosRNbjZ75zZ"
      },
      "source": [
        "## Question# 6\n",
        "\n",
        "Points : 5\n",
        "\n",
        "Given an integer n, return True if n is nearest to either 100 or 200 with the difference of upto 10.\n",
        "\n",
        "    nearest_num(90) --> True\n",
        "    nearest_num(104) --> True\n",
        "    nearest_num(150) --> False\n",
        "    nearest_num(209) --> True\n",
        "    \n",
        "NOTE: `abs(num)` returns the absolute value of a number"
      ]
    },
    {
      "cell_type": "code",
      "metadata": {
        "collapsed": true,
        "id": "mYL-XUKn75zZ"
      },
      "source": [
        "def nearest_num(n):\n",
        "\n",
        "    if abs(n-100) <=10 or abs(n-200) <=10:\n",
        "      return True\n",
        "    return False"
      ],
      "execution_count": 46,
      "outputs": []
    },
    {
      "cell_type": "code",
      "metadata": {
        "collapsed": true,
        "id": "SBy-ceNf75zZ",
        "colab": {
          "base_uri": "https://localhost:8080/"
        },
        "outputId": "fd8100a9-7be1-4e59-b736-d78b979ea368"
      },
      "source": [
        "# Check1\n",
        "nearest_num(104)"
      ],
      "execution_count": 47,
      "outputs": [
        {
          "output_type": "execute_result",
          "data": {
            "text/plain": [
              "True"
            ]
          },
          "metadata": {},
          "execution_count": 47
        }
      ]
    },
    {
      "cell_type": "code",
      "metadata": {
        "collapsed": true,
        "id": "l3IiEN1w75zZ",
        "colab": {
          "base_uri": "https://localhost:8080/"
        },
        "outputId": "ca9fbe78-c4eb-4708-836f-e7618fe23384"
      },
      "source": [
        "# Check2\n",
        "nearest_num(150)"
      ],
      "execution_count": 48,
      "outputs": [
        {
          "output_type": "execute_result",
          "data": {
            "text/plain": [
              "False"
            ]
          },
          "metadata": {},
          "execution_count": 48
        }
      ]
    },
    {
      "cell_type": "code",
      "metadata": {
        "collapsed": true,
        "id": "lBqJY_II75za",
        "colab": {
          "base_uri": "https://localhost:8080/"
        },
        "outputId": "bb588472-e924-4681-a7dc-2ed66e245f12"
      },
      "source": [
        "# Check3\n",
        "nearest_num(209)"
      ],
      "execution_count": 49,
      "outputs": [
        {
          "output_type": "execute_result",
          "data": {
            "text/plain": [
              "True"
            ]
          },
          "metadata": {},
          "execution_count": 49
        }
      ]
    },
    {
      "cell_type": "markdown",
      "metadata": {
        "id": "Aris-wDf75za"
      },
      "source": [
        "## Question# 7\n",
        "\n",
        "Points : 5\n",
        "\n",
        "Given a list of ints, return True if the list contains a same numeric value next.\n",
        "\n",
        "    contains_two_samevalues([1, 3, 3]) → True\n",
        "    contains_two_samevalues([1, 3, 1, 3]) → False\n",
        "    contains_two_samevalues([3, 1, 3]) → False"
      ]
    },
    {
      "cell_type": "code",
      "metadata": {
        "collapsed": true,
        "id": "Dw3iE01275za"
      },
      "source": [
        "def contains_two_samevalues(nums):\n",
        "    for i in range(len(nums)):\n",
        "      if i!=len(nums)-1:\n",
        "        if nums[i]==nums[i+1]:\n",
        "          return True\n",
        "    return False\n"
      ],
      "execution_count": 53,
      "outputs": []
    },
    {
      "cell_type": "code",
      "metadata": {
        "collapsed": true,
        "id": "VTEf2wIu75zb",
        "colab": {
          "base_uri": "https://localhost:8080/"
        },
        "outputId": "0cc92024-71b4-4b63-d5b6-37a7d2f97c41"
      },
      "source": [
        "# Check1\n",
        "contains_two_samevalues([1, 3, 3])"
      ],
      "execution_count": 54,
      "outputs": [
        {
          "output_type": "execute_result",
          "data": {
            "text/plain": [
              "True"
            ]
          },
          "metadata": {},
          "execution_count": 54
        }
      ]
    },
    {
      "cell_type": "code",
      "metadata": {
        "collapsed": true,
        "id": "D1KxBkty75zb",
        "colab": {
          "base_uri": "https://localhost:8080/"
        },
        "outputId": "7757b8e3-a08a-4333-b68d-799a8f4b399a"
      },
      "source": [
        "# Check2\n",
        "contains_two_samevalues([1, 3, 1, 3])"
      ],
      "execution_count": 55,
      "outputs": [
        {
          "output_type": "execute_result",
          "data": {
            "text/plain": [
              "False"
            ]
          },
          "metadata": {},
          "execution_count": 55
        }
      ]
    },
    {
      "cell_type": "code",
      "metadata": {
        "collapsed": true,
        "id": "P_VM5Evm75zb",
        "colab": {
          "base_uri": "https://localhost:8080/"
        },
        "outputId": "6c256e7e-7243-4e1f-b19e-91983f88d0fa"
      },
      "source": [
        "# Check3\n",
        "contains_two_samevalues([3, 1, 3])"
      ],
      "execution_count": 56,
      "outputs": [
        {
          "output_type": "execute_result",
          "data": {
            "text/plain": [
              "False"
            ]
          },
          "metadata": {},
          "execution_count": 56
        }
      ]
    },
    {
      "cell_type": "markdown",
      "metadata": {
        "id": "zUQ5fWNz75zb"
      },
      "source": [
        "## Question# 8\n",
        "\n",
        "Points : 5\n",
        "\n",
        "Given a string, return a string where for every character of the string appears 3 time.\n",
        "\n",
        "    repeat_three('Hello') --> 'HHHeeellllllooo'\n",
        "    repeat_three('Mississippi') --> 'MMMiiissssssiiissssssiiippppppiii'"
      ]
    },
    {
      "cell_type": "code",
      "metadata": {
        "collapsed": true,
        "id": "6vKzWOd475zb"
      },
      "source": [
        "def repeat_three(text):\n",
        "    str=\"\"\n",
        "    for i in text:\n",
        "      str+=i*3\n",
        "    return str\n",
        ""
      ],
      "execution_count": 62,
      "outputs": []
    },
    {
      "cell_type": "code",
      "metadata": {
        "collapsed": true,
        "id": "TtCaDFgF75zb",
        "colab": {
          "base_uri": "https://localhost:8080/",
          "height": 35
        },
        "outputId": "1781dd4c-642c-45dc-b61e-0801fc9f1bd5"
      },
      "source": [
        "# Check1\n",
        "repeat_three('Hello')"
      ],
      "execution_count": 63,
      "outputs": [
        {
          "output_type": "execute_result",
          "data": {
            "text/plain": [
              "'HHHeeellllllooo'"
            ],
            "application/vnd.google.colaboratory.intrinsic+json": {
              "type": "string"
            }
          },
          "metadata": {},
          "execution_count": 63
        }
      ]
    },
    {
      "cell_type": "code",
      "metadata": {
        "collapsed": true,
        "id": "o8QYdzkO75zc",
        "colab": {
          "base_uri": "https://localhost:8080/",
          "height": 35
        },
        "outputId": "b2bec39a-cdec-4741-f162-a6f7ba768200"
      },
      "source": [
        "# Check2\n",
        "repeat_three('Mississippi')"
      ],
      "execution_count": 64,
      "outputs": [
        {
          "output_type": "execute_result",
          "data": {
            "text/plain": [
              "'MMMiiissssssiiissssssiiippppppiii'"
            ],
            "application/vnd.google.colaboratory.intrinsic+json": {
              "type": "string"
            }
          },
          "metadata": {},
          "execution_count": 64
        }
      ]
    },
    {
      "cell_type": "markdown",
      "metadata": {
        "id": "mKoiX1Je75zg"
      },
      "source": [
        "## Question# 9\n",
        "\n",
        "Points : 5\n",
        "\n",
        "Write a function that returns the *number* of prime numbers that exist up to and including a given number\n",
        "\n",
        "    count_primes(100) --> 25\n",
        "\n",
        "By convention, 0 and 1 are not prime."
      ]
    },
    {
      "cell_type": "code",
      "metadata": {
        "collapsed": true,
        "id": "yYjs542q75zg"
      },
      "source": [
        "from sympy import isprime\n",
        "def count_primes(num):\n",
        "    i=2\n",
        "    count=0\n",
        "    while i<=num:\n",
        "      if isprime(i):\n",
        "        count+=1\n",
        "      i+=1\n",
        "    return count\n"
      ],
      "execution_count": 74,
      "outputs": []
    },
    {
      "cell_type": "code",
      "metadata": {
        "collapsed": true,
        "id": "62ZQGzsa75zg",
        "colab": {
          "base_uri": "https://localhost:8080/"
        },
        "outputId": "8c4dfdc4-77bc-4484-9817-75d5aeed3e53"
      },
      "source": [
        "# Check1\n",
        "count_primes(100)"
      ],
      "execution_count": 76,
      "outputs": [
        {
          "output_type": "execute_result",
          "data": {
            "text/plain": [
              "25"
            ]
          },
          "metadata": {},
          "execution_count": 76
        }
      ]
    }
  ]
}