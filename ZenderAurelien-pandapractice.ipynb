{
 "cells": [
  {
   "cell_type": "markdown",
   "id": "a6da37ac",
   "metadata": {},
   "source": [
    "# Zender Aurelien Pandas Practice"
   ]
  },
  {
   "cell_type": "code",
   "execution_count": 77,
   "id": "df88e722",
   "metadata": {},
   "outputs": [],
   "source": [
    "import numpy as np\n",
    "import pandas as pd\n",
    "from matplotlib import pyplot as plt"
   ]
  },
  {
   "cell_type": "code",
   "execution_count": 78,
   "id": "c38b31c3",
   "metadata": {},
   "outputs": [
    {
     "data": {
      "application/vnd.microsoft.datawrangler.viewer.v0+json": {
       "columns": [
        {
         "name": "index",
         "rawType": "int64",
         "type": "integer"
        },
        {
         "name": "StudentID",
         "rawType": "float64",
         "type": "float"
        },
        {
         "name": "Name",
         "rawType": "object",
         "type": "string"
        },
        {
         "name": "Gender",
         "rawType": "object",
         "type": "string"
        },
        {
         "name": "Grade",
         "rawType": "float64",
         "type": "float"
        },
        {
         "name": "Attendance",
         "rawType": "float64",
         "type": "float"
        },
        {
         "name": "Subject",
         "rawType": "object",
         "type": "string"
        }
       ],
       "ref": "26a12b11-dfd4-476c-b648-8f545483c1ba",
       "rows": [
        [
         "0",
         "1.0",
         "Charlie",
         "Male",
         "69.0",
         null,
         "English"
        ],
        [
         "1",
         "2.0",
         "Frank",
         "M",
         "55.0",
         "71.0",
         "Physics"
        ],
        [
         "2",
         "3.0",
         "Charlie",
         "Male",
         "75.0",
         "97.0",
         "Math"
        ],
        [
         "3",
         "4.0",
         "Alice",
         "male",
         "46.0",
         "59.0",
         "Biology"
        ],
        [
         "4",
         "5.0",
         "Noah",
         "Male",
         "47.0",
         "86.0",
         "Math"
        ],
        [
         "5",
         "6.0",
         "Alice",
         "F",
         "87.0",
         "70.0",
         "Biology"
        ],
        [
         "6",
         "7.0",
         "Karen",
         "female",
         "71.0",
         "61.0",
         "Physics"
        ],
        [
         "7",
         "8.0",
         "Frank",
         "male",
         "82.0",
         "95.0",
         "Physics"
        ],
        [
         "8",
         "9.0",
         "Bob",
         "Male",
         "82.0",
         "52.0",
         "English"
        ],
        [
         "9",
         "10.0",
         "Henry",
         "M",
         "56.0",
         "86.0",
         "Computer Science"
        ]
       ],
       "shape": {
        "columns": 6,
        "rows": 10
       }
      },
      "text/html": [
       "<div>\n",
       "<style scoped>\n",
       "    .dataframe tbody tr th:only-of-type {\n",
       "        vertical-align: middle;\n",
       "    }\n",
       "\n",
       "    .dataframe tbody tr th {\n",
       "        vertical-align: top;\n",
       "    }\n",
       "\n",
       "    .dataframe thead th {\n",
       "        text-align: right;\n",
       "    }\n",
       "</style>\n",
       "<table border=\"1\" class=\"dataframe\">\n",
       "  <thead>\n",
       "    <tr style=\"text-align: right;\">\n",
       "      <th></th>\n",
       "      <th>StudentID</th>\n",
       "      <th>Name</th>\n",
       "      <th>Gender</th>\n",
       "      <th>Grade</th>\n",
       "      <th>Attendance</th>\n",
       "      <th>Subject</th>\n",
       "    </tr>\n",
       "  </thead>\n",
       "  <tbody>\n",
       "    <tr>\n",
       "      <th>0</th>\n",
       "      <td>1.0</td>\n",
       "      <td>Charlie</td>\n",
       "      <td>Male</td>\n",
       "      <td>69.0</td>\n",
       "      <td>NaN</td>\n",
       "      <td>English</td>\n",
       "    </tr>\n",
       "    <tr>\n",
       "      <th>1</th>\n",
       "      <td>2.0</td>\n",
       "      <td>Frank</td>\n",
       "      <td>M</td>\n",
       "      <td>55.0</td>\n",
       "      <td>71.0</td>\n",
       "      <td>Physics</td>\n",
       "    </tr>\n",
       "    <tr>\n",
       "      <th>2</th>\n",
       "      <td>3.0</td>\n",
       "      <td>Charlie</td>\n",
       "      <td>Male</td>\n",
       "      <td>75.0</td>\n",
       "      <td>97.0</td>\n",
       "      <td>Math</td>\n",
       "    </tr>\n",
       "    <tr>\n",
       "      <th>3</th>\n",
       "      <td>4.0</td>\n",
       "      <td>Alice</td>\n",
       "      <td>male</td>\n",
       "      <td>46.0</td>\n",
       "      <td>59.0</td>\n",
       "      <td>Biology</td>\n",
       "    </tr>\n",
       "    <tr>\n",
       "      <th>4</th>\n",
       "      <td>5.0</td>\n",
       "      <td>Noah</td>\n",
       "      <td>Male</td>\n",
       "      <td>47.0</td>\n",
       "      <td>86.0</td>\n",
       "      <td>Math</td>\n",
       "    </tr>\n",
       "    <tr>\n",
       "      <th>5</th>\n",
       "      <td>6.0</td>\n",
       "      <td>Alice</td>\n",
       "      <td>F</td>\n",
       "      <td>87.0</td>\n",
       "      <td>70.0</td>\n",
       "      <td>Biology</td>\n",
       "    </tr>\n",
       "    <tr>\n",
       "      <th>6</th>\n",
       "      <td>7.0</td>\n",
       "      <td>Karen</td>\n",
       "      <td>female</td>\n",
       "      <td>71.0</td>\n",
       "      <td>61.0</td>\n",
       "      <td>Physics</td>\n",
       "    </tr>\n",
       "    <tr>\n",
       "      <th>7</th>\n",
       "      <td>8.0</td>\n",
       "      <td>Frank</td>\n",
       "      <td>male</td>\n",
       "      <td>82.0</td>\n",
       "      <td>95.0</td>\n",
       "      <td>Physics</td>\n",
       "    </tr>\n",
       "    <tr>\n",
       "      <th>8</th>\n",
       "      <td>9.0</td>\n",
       "      <td>Bob</td>\n",
       "      <td>Male</td>\n",
       "      <td>82.0</td>\n",
       "      <td>52.0</td>\n",
       "      <td>English</td>\n",
       "    </tr>\n",
       "    <tr>\n",
       "      <th>9</th>\n",
       "      <td>10.0</td>\n",
       "      <td>Henry</td>\n",
       "      <td>M</td>\n",
       "      <td>56.0</td>\n",
       "      <td>86.0</td>\n",
       "      <td>Computer Science</td>\n",
       "    </tr>\n",
       "  </tbody>\n",
       "</table>\n",
       "</div>"
      ],
      "text/plain": [
       "   StudentID     Name  Gender  Grade  Attendance           Subject\n",
       "0        1.0  Charlie    Male   69.0         NaN           English\n",
       "1        2.0    Frank       M   55.0        71.0           Physics\n",
       "2        3.0  Charlie    Male   75.0        97.0              Math\n",
       "3        4.0    Alice    male   46.0        59.0           Biology\n",
       "4        5.0     Noah    Male   47.0        86.0              Math\n",
       "5        6.0    Alice       F   87.0        70.0           Biology\n",
       "6        7.0    Karen  female   71.0        61.0           Physics\n",
       "7        8.0    Frank    male   82.0        95.0           Physics\n",
       "8        9.0      Bob    Male   82.0        52.0           English\n",
       "9       10.0    Henry       M   56.0        86.0  Computer Science"
      ]
     },
     "execution_count": 78,
     "metadata": {},
     "output_type": "execute_result"
    }
   ],
   "source": [
    "student_data=pd.read_csv('students_data.csv')\n",
    "student_data.head(10)"
   ]
  },
  {
   "cell_type": "code",
   "execution_count": 79,
   "id": "2f3eadf6",
   "metadata": {},
   "outputs": [
    {
     "name": "stdout",
     "output_type": "stream",
     "text": [
      "StudentID     float64\n",
      "Name           object\n",
      "Gender         object\n",
      "Grade         float64\n",
      "Attendance    float64\n",
      "Subject        object\n",
      "dtype: object\n",
      "(1000, 6)\n"
     ]
    }
   ],
   "source": [
    "print(student_data.dtypes)\n",
    "print(student_data.shape)"
   ]
  },
  {
   "cell_type": "code",
   "execution_count": 80,
   "id": "f0e7c44c",
   "metadata": {},
   "outputs": [
    {
     "data": {
      "application/vnd.microsoft.datawrangler.viewer.v0+json": {
       "columns": [
        {
         "name": "index",
         "rawType": "object",
         "type": "string"
        },
        {
         "name": "StudentID",
         "rawType": "float64",
         "type": "float"
        },
        {
         "name": "Grade",
         "rawType": "float64",
         "type": "float"
        },
        {
         "name": "Attendance",
         "rawType": "float64",
         "type": "float"
        }
       ],
       "ref": "2d916e07-aa0c-44a1-9d1f-713884773cf5",
       "rows": [
        [
         "count",
         "968.0",
         "955.0",
         "948.0"
        ],
        [
         "mean",
         "499.68595041322317",
         "65.56858638743455",
         "75.35337552742617"
        ],
        [
         "std",
         "288.51585517185833",
         "15.417402076344512",
         "14.733558273063458"
        ],
        [
         "min",
         "1.0",
         "12.0",
         "50.0"
        ],
        [
         "25%",
         "250.75",
         "55.0",
         "62.0"
        ],
        [
         "50%",
         "498.5",
         "65.0",
         "75.0"
        ],
        [
         "75%",
         "750.25",
         "76.0",
         "88.0"
        ],
        [
         "max",
         "1000.0",
         "113.0",
         "100.0"
        ]
       ],
       "shape": {
        "columns": 3,
        "rows": 8
       }
      },
      "text/html": [
       "<div>\n",
       "<style scoped>\n",
       "    .dataframe tbody tr th:only-of-type {\n",
       "        vertical-align: middle;\n",
       "    }\n",
       "\n",
       "    .dataframe tbody tr th {\n",
       "        vertical-align: top;\n",
       "    }\n",
       "\n",
       "    .dataframe thead th {\n",
       "        text-align: right;\n",
       "    }\n",
       "</style>\n",
       "<table border=\"1\" class=\"dataframe\">\n",
       "  <thead>\n",
       "    <tr style=\"text-align: right;\">\n",
       "      <th></th>\n",
       "      <th>StudentID</th>\n",
       "      <th>Grade</th>\n",
       "      <th>Attendance</th>\n",
       "    </tr>\n",
       "  </thead>\n",
       "  <tbody>\n",
       "    <tr>\n",
       "      <th>count</th>\n",
       "      <td>968.000000</td>\n",
       "      <td>955.000000</td>\n",
       "      <td>948.000000</td>\n",
       "    </tr>\n",
       "    <tr>\n",
       "      <th>mean</th>\n",
       "      <td>499.685950</td>\n",
       "      <td>65.568586</td>\n",
       "      <td>75.353376</td>\n",
       "    </tr>\n",
       "    <tr>\n",
       "      <th>std</th>\n",
       "      <td>288.515855</td>\n",
       "      <td>15.417402</td>\n",
       "      <td>14.733558</td>\n",
       "    </tr>\n",
       "    <tr>\n",
       "      <th>min</th>\n",
       "      <td>1.000000</td>\n",
       "      <td>12.000000</td>\n",
       "      <td>50.000000</td>\n",
       "    </tr>\n",
       "    <tr>\n",
       "      <th>25%</th>\n",
       "      <td>250.750000</td>\n",
       "      <td>55.000000</td>\n",
       "      <td>62.000000</td>\n",
       "    </tr>\n",
       "    <tr>\n",
       "      <th>50%</th>\n",
       "      <td>498.500000</td>\n",
       "      <td>65.000000</td>\n",
       "      <td>75.000000</td>\n",
       "    </tr>\n",
       "    <tr>\n",
       "      <th>75%</th>\n",
       "      <td>750.250000</td>\n",
       "      <td>76.000000</td>\n",
       "      <td>88.000000</td>\n",
       "    </tr>\n",
       "    <tr>\n",
       "      <th>max</th>\n",
       "      <td>1000.000000</td>\n",
       "      <td>113.000000</td>\n",
       "      <td>100.000000</td>\n",
       "    </tr>\n",
       "  </tbody>\n",
       "</table>\n",
       "</div>"
      ],
      "text/plain": [
       "         StudentID       Grade  Attendance\n",
       "count   968.000000  955.000000  948.000000\n",
       "mean    499.685950   65.568586   75.353376\n",
       "std     288.515855   15.417402   14.733558\n",
       "min       1.000000   12.000000   50.000000\n",
       "25%     250.750000   55.000000   62.000000\n",
       "50%     498.500000   65.000000   75.000000\n",
       "75%     750.250000   76.000000   88.000000\n",
       "max    1000.000000  113.000000  100.000000"
      ]
     },
     "execution_count": 80,
     "metadata": {},
     "output_type": "execute_result"
    }
   ],
   "source": [
    "student_data.describe()"
   ]
  },
  {
   "cell_type": "code",
   "execution_count": null,
   "id": "92315011",
   "metadata": {},
   "outputs": [
    {
     "data": {
      "application/vnd.microsoft.datawrangler.viewer.v0+json": {
       "columns": [
        {
         "name": "index",
         "rawType": "object",
         "type": "string"
        },
        {
         "name": "0",
         "rawType": "int64",
         "type": "integer"
        }
       ],
       "ref": "23f340eb-5ed6-4dfb-82a4-d6220bf0c67c",
       "rows": [
        [
         "StudentID",
         "32"
        ],
        [
         "Name",
         "18"
        ],
        [
         "Gender",
         "0"
        ],
        [
         "Grade",
         "45"
        ],
        [
         "Attendance",
         "52"
        ],
        [
         "Subject",
         "0"
        ]
       ],
       "shape": {
        "columns": 1,
        "rows": 6
       }
      },
      "text/plain": [
       "StudentID     32\n",
       "Name          18\n",
       "Gender         0\n",
       "Grade         45\n",
       "Attendance    52\n",
       "Subject        0\n",
       "dtype: int64"
      ]
     },
     "execution_count": 81,
     "metadata": {},
     "output_type": "execute_result"
    }
   ],
   "source": [
    "student_data.isnull().sum()#checks the total amount of null values in each column"
   ]
  },
  {
   "cell_type": "code",
   "execution_count": null,
   "id": "257d1542",
   "metadata": {},
   "outputs": [],
   "source": [
    "grademean=round(student_data.Grade.mean(),2)\n",
    "student_data.Grade=student_data.Grade.fillna(grademean)#fills all null values in grade with average grade value\n",
    "student_data.Attendance=student_data.Attendance.fillna(0) #fills all null attendance values with 0\n"
   ]
  },
  {
   "cell_type": "code",
   "execution_count": 83,
   "id": "1e9ecb14",
   "metadata": {},
   "outputs": [
    {
     "data": {
      "application/vnd.microsoft.datawrangler.viewer.v0+json": {
       "columns": [
        {
         "name": "index",
         "rawType": "int64",
         "type": "integer"
        },
        {
         "name": "StudentID",
         "rawType": "float64",
         "type": "float"
        },
        {
         "name": "Name",
         "rawType": "object",
         "type": "unknown"
        },
        {
         "name": "Gender",
         "rawType": "object",
         "type": "string"
        },
        {
         "name": "Grade",
         "rawType": "float64",
         "type": "float"
        },
        {
         "name": "Attendance",
         "rawType": "float64",
         "type": "float"
        },
        {
         "name": "Subject",
         "rawType": "object",
         "type": "string"
        }
       ],
       "ref": "7e4809e5-0f2a-4c8e-aabb-a31da8c2088f",
       "rows": [
        [
         "0",
         "1.0",
         "Charlie",
         "Male",
         "69.0",
         "0.0",
         "English"
        ],
        [
         "1",
         "2.0",
         "Frank",
         "M",
         "55.0",
         "71.0",
         "Physics"
        ],
        [
         "2",
         "3.0",
         "Charlie",
         "Male",
         "75.0",
         "97.0",
         "Math"
        ],
        [
         "3",
         "4.0",
         "Alice",
         "male",
         "46.0",
         "59.0",
         "Biology"
        ],
        [
         "4",
         "5.0",
         "Noah",
         "Male",
         "47.0",
         "86.0",
         "Math"
        ],
        [
         "5",
         "6.0",
         "Alice",
         "F",
         "87.0",
         "70.0",
         "Biology"
        ],
        [
         "6",
         "7.0",
         "Karen",
         "female",
         "71.0",
         "61.0",
         "Physics"
        ],
        [
         "7",
         "8.0",
         "Frank",
         "male",
         "82.0",
         "95.0",
         "Physics"
        ],
        [
         "8",
         "9.0",
         "Bob",
         "Male",
         "82.0",
         "52.0",
         "English"
        ],
        [
         "9",
         "10.0",
         "Henry",
         "M",
         "56.0",
         "86.0",
         "Computer Science"
        ],
        [
         "10",
         "11.0",
         "David",
         "M",
         "83.0",
         "51.0",
         "Computer Science"
        ],
        [
         "11",
         "12.0",
         "Noah",
         "male",
         "78.0",
         "79.0",
         "Science"
        ],
        [
         "12",
         "13.0",
         "Karen",
         "Male",
         "40.0",
         "79.0",
         "Science"
        ],
        [
         "13",
         "14.0",
         "Frank",
         "M",
         "50.0",
         "55.0",
         "Computer Science"
        ],
        [
         "14",
         "15.0",
         "Alice",
         "Female",
         "65.0",
         "91.0",
         "Physics"
        ],
        [
         "15",
         "16.0",
         "Bob",
         "Male",
         "69.0",
         "83.0",
         "Chemistry"
        ],
        [
         "16",
         "17.0",
         "Karen",
         "Female",
         "75.0",
         "59.0",
         "Biology"
        ],
        [
         "17",
         "18.0",
         "Bob",
         "female",
         "69.0",
         "55.0",
         "Biology"
        ],
        [
         "18",
         "19.0",
         "Alice",
         "M",
         "63.0",
         "88.0",
         "Chemistry"
        ],
        [
         "19",
         "20.0",
         "Alice",
         "M",
         "96.0",
         "79.0",
         "English"
        ],
        [
         "20",
         "21.0",
         "Eve",
         "female",
         "77.0",
         "0.0",
         "English"
        ],
        [
         "21",
         "22.0",
         "Noah",
         "Male",
         "98.0",
         "88.0",
         "Chemistry"
        ],
        [
         "22",
         "23.0",
         "David",
         "F",
         "65.57",
         "99.0",
         "History"
        ],
        [
         "23",
         "24.0",
         "Olivia",
         "male",
         "88.0",
         "61.0",
         "Physics"
        ],
        [
         "24",
         "25.0",
         "Bob",
         "Male",
         "54.0",
         "76.0",
         "Computer Science"
        ],
        [
         "25",
         "26.0",
         "David",
         "Male",
         "32.0",
         "60.0",
         "History"
        ],
        [
         "26",
         "27.0",
         "Frank",
         "female",
         "50.0",
         "59.0",
         "History"
        ],
        [
         "27",
         "28.0",
         "Ivy",
         "Female",
         "41.0",
         "98.0",
         "Computer Science"
        ],
        [
         "28",
         "29.0",
         "Grace",
         "female",
         "64.0",
         "80.0",
         "Biology"
        ],
        [
         "29",
         "30.0",
         "Eve",
         "Male",
         "45.0",
         "83.0",
         "Science"
        ],
        [
         "30",
         "31.0",
         "Frank",
         "male",
         "55.0",
         "92.0",
         "Math"
        ],
        [
         "31",
         "32.0",
         "Eve",
         "Female",
         "74.0",
         "98.0",
         "Math"
        ],
        [
         "32",
         "33.0",
         "Henry",
         "male",
         "60.0",
         "0.0",
         "Biology"
        ],
        [
         "33",
         "34.0",
         "Mia",
         "female",
         "58.0",
         "72.0",
         "Physics"
        ],
        [
         "34",
         "35.0",
         "David",
         "Female",
         "57.0",
         "84.0",
         "Science"
        ],
        [
         "35",
         "36.0",
         "Ivy",
         "M",
         "56.0",
         "92.0",
         "English"
        ],
        [
         "36",
         "37.0",
         "Olivia",
         "male",
         "108.0",
         "59.0",
         "Physics"
        ],
        [
         "37",
         "38.0",
         "Grace",
         "male",
         "50.0",
         "99.0",
         "Chemistry"
        ],
        [
         "38",
         "39.0",
         "Grace",
         "Male",
         "59.0",
         "81.0",
         "Biology"
        ],
        [
         "39",
         "40.0",
         "Noah",
         "F",
         "73.0",
         "92.0",
         "Biology"
        ],
        [
         "40",
         "41.0",
         "Olivia",
         "Female",
         "58.0",
         "66.0",
         "Biology"
        ],
        [
         "41",
         "42.0",
         "Olivia",
         "male",
         "37.0",
         "59.0",
         "Biology"
        ],
        [
         "42",
         "43.0",
         "Mia",
         "male",
         "60.0",
         "93.0",
         "Computer Science"
        ],
        [
         "43",
         "44.0",
         "Henry",
         "male",
         "65.0",
         "87.0",
         "English"
        ],
        [
         "44",
         "45.0",
         "David",
         "Female",
         "87.0",
         "76.0",
         "Chemistry"
        ],
        [
         "45",
         "46.0",
         "Frank",
         "F",
         "76.0",
         "56.0",
         "Math"
        ],
        [
         "46",
         "47.0",
         "Noah",
         "female",
         "66.0",
         "50.0",
         "Biology"
        ],
        [
         "47",
         "48.0",
         "Jack",
         "male",
         "89.0",
         "54.0",
         "Biology"
        ],
        [
         "48",
         "49.0",
         "Alice",
         "Male",
         "76.0",
         "98.0",
         "Computer Science"
        ],
        [
         "49",
         "50.0",
         "Grace",
         "Male",
         "73.0",
         "65.0",
         "Computer Science"
        ]
       ],
       "shape": {
        "columns": 6,
        "rows": 1000
       }
      },
      "text/html": [
       "<div>\n",
       "<style scoped>\n",
       "    .dataframe tbody tr th:only-of-type {\n",
       "        vertical-align: middle;\n",
       "    }\n",
       "\n",
       "    .dataframe tbody tr th {\n",
       "        vertical-align: top;\n",
       "    }\n",
       "\n",
       "    .dataframe thead th {\n",
       "        text-align: right;\n",
       "    }\n",
       "</style>\n",
       "<table border=\"1\" class=\"dataframe\">\n",
       "  <thead>\n",
       "    <tr style=\"text-align: right;\">\n",
       "      <th></th>\n",
       "      <th>StudentID</th>\n",
       "      <th>Name</th>\n",
       "      <th>Gender</th>\n",
       "      <th>Grade</th>\n",
       "      <th>Attendance</th>\n",
       "      <th>Subject</th>\n",
       "    </tr>\n",
       "  </thead>\n",
       "  <tbody>\n",
       "    <tr>\n",
       "      <th>0</th>\n",
       "      <td>1.0</td>\n",
       "      <td>Charlie</td>\n",
       "      <td>Male</td>\n",
       "      <td>69.0</td>\n",
       "      <td>0.0</td>\n",
       "      <td>English</td>\n",
       "    </tr>\n",
       "    <tr>\n",
       "      <th>1</th>\n",
       "      <td>2.0</td>\n",
       "      <td>Frank</td>\n",
       "      <td>M</td>\n",
       "      <td>55.0</td>\n",
       "      <td>71.0</td>\n",
       "      <td>Physics</td>\n",
       "    </tr>\n",
       "    <tr>\n",
       "      <th>2</th>\n",
       "      <td>3.0</td>\n",
       "      <td>Charlie</td>\n",
       "      <td>Male</td>\n",
       "      <td>75.0</td>\n",
       "      <td>97.0</td>\n",
       "      <td>Math</td>\n",
       "    </tr>\n",
       "    <tr>\n",
       "      <th>3</th>\n",
       "      <td>4.0</td>\n",
       "      <td>Alice</td>\n",
       "      <td>male</td>\n",
       "      <td>46.0</td>\n",
       "      <td>59.0</td>\n",
       "      <td>Biology</td>\n",
       "    </tr>\n",
       "    <tr>\n",
       "      <th>4</th>\n",
       "      <td>5.0</td>\n",
       "      <td>Noah</td>\n",
       "      <td>Male</td>\n",
       "      <td>47.0</td>\n",
       "      <td>86.0</td>\n",
       "      <td>Math</td>\n",
       "    </tr>\n",
       "    <tr>\n",
       "      <th>...</th>\n",
       "      <td>...</td>\n",
       "      <td>...</td>\n",
       "      <td>...</td>\n",
       "      <td>...</td>\n",
       "      <td>...</td>\n",
       "      <td>...</td>\n",
       "    </tr>\n",
       "    <tr>\n",
       "      <th>995</th>\n",
       "      <td>996.0</td>\n",
       "      <td>Jack</td>\n",
       "      <td>male</td>\n",
       "      <td>77.0</td>\n",
       "      <td>60.0</td>\n",
       "      <td>Chemistry</td>\n",
       "    </tr>\n",
       "    <tr>\n",
       "      <th>996</th>\n",
       "      <td>997.0</td>\n",
       "      <td>Charlie</td>\n",
       "      <td>Male</td>\n",
       "      <td>63.0</td>\n",
       "      <td>71.0</td>\n",
       "      <td>Science</td>\n",
       "    </tr>\n",
       "    <tr>\n",
       "      <th>997</th>\n",
       "      <td>998.0</td>\n",
       "      <td>Noah</td>\n",
       "      <td>female</td>\n",
       "      <td>51.0</td>\n",
       "      <td>79.0</td>\n",
       "      <td>Math</td>\n",
       "    </tr>\n",
       "    <tr>\n",
       "      <th>998</th>\n",
       "      <td>999.0</td>\n",
       "      <td>Charlie</td>\n",
       "      <td>Male</td>\n",
       "      <td>52.0</td>\n",
       "      <td>73.0</td>\n",
       "      <td>English</td>\n",
       "    </tr>\n",
       "    <tr>\n",
       "      <th>999</th>\n",
       "      <td>1000.0</td>\n",
       "      <td>Frank</td>\n",
       "      <td>female</td>\n",
       "      <td>54.0</td>\n",
       "      <td>62.0</td>\n",
       "      <td>Math</td>\n",
       "    </tr>\n",
       "  </tbody>\n",
       "</table>\n",
       "<p>1000 rows × 6 columns</p>\n",
       "</div>"
      ],
      "text/plain": [
       "     StudentID     Name  Gender  Grade  Attendance    Subject\n",
       "0          1.0  Charlie    Male   69.0         0.0    English\n",
       "1          2.0    Frank       M   55.0        71.0    Physics\n",
       "2          3.0  Charlie    Male   75.0        97.0       Math\n",
       "3          4.0    Alice    male   46.0        59.0    Biology\n",
       "4          5.0     Noah    Male   47.0        86.0       Math\n",
       "..         ...      ...     ...    ...         ...        ...\n",
       "995      996.0     Jack    male   77.0        60.0  Chemistry\n",
       "996      997.0  Charlie    Male   63.0        71.0    Science\n",
       "997      998.0     Noah  female   51.0        79.0       Math\n",
       "998      999.0  Charlie    Male   52.0        73.0    English\n",
       "999     1000.0    Frank  female   54.0        62.0       Math\n",
       "\n",
       "[1000 rows x 6 columns]"
      ]
     },
     "execution_count": 83,
     "metadata": {},
     "output_type": "execute_result"
    }
   ],
   "source": [
    "student_data"
   ]
  },
  {
   "cell_type": "code",
   "execution_count": null,
   "id": "9d5cdbea",
   "metadata": {},
   "outputs": [],
   "source": [
    "student_data.dropna(axis=0, how='any',inplace=True)#permanently drops remaining rows with null values"
   ]
  },
  {
   "cell_type": "code",
   "execution_count": 85,
   "id": "2f9db357",
   "metadata": {},
   "outputs": [
    {
     "data": {
      "application/vnd.microsoft.datawrangler.viewer.v0+json": {
       "columns": [
        {
         "name": "index",
         "rawType": "object",
         "type": "string"
        },
        {
         "name": "0",
         "rawType": "int64",
         "type": "integer"
        }
       ],
       "ref": "ed00f5e5-aa9b-4fc4-8c21-45e6d857e362",
       "rows": [
        [
         "StudentID",
         "0"
        ],
        [
         "Name",
         "0"
        ],
        [
         "Gender",
         "0"
        ],
        [
         "Grade",
         "0"
        ],
        [
         "Attendance",
         "0"
        ],
        [
         "Subject",
         "0"
        ]
       ],
       "shape": {
        "columns": 1,
        "rows": 6
       }
      },
      "text/plain": [
       "StudentID     0\n",
       "Name          0\n",
       "Gender        0\n",
       "Grade         0\n",
       "Attendance    0\n",
       "Subject       0\n",
       "dtype: int64"
      ]
     },
     "execution_count": 85,
     "metadata": {},
     "output_type": "execute_result"
    }
   ],
   "source": [
    "student_data.isnull().sum()"
   ]
  },
  {
   "cell_type": "code",
   "execution_count": null,
   "id": "988ccd0a",
   "metadata": {},
   "outputs": [],
   "source": [
    "student_data['Gender']=student_data['Gender'].replace('M','Male')\n",
    "student_data['Gender']=student_data['Gender'].replace('male','Male')\n",
    "student_data['Gender']=student_data['Gender'].replace('F','Female')\n",
    "student_data['Gender']=student_data['Gender'].replace('female','Female')\n",
    "#cleaning up gender values"
   ]
  },
  {
   "cell_type": "code",
   "execution_count": null,
   "id": "08ad9992",
   "metadata": {},
   "outputs": [],
   "source": [
    "passed = pd.Series(student_data.Grade>=50)\n",
    "student_data['Pass/Fail']=passed #adding a column containing whether or not students passed"
   ]
  },
  {
   "cell_type": "code",
   "execution_count": 88,
   "id": "a6b5a252",
   "metadata": {},
   "outputs": [
    {
     "data": {
      "application/vnd.microsoft.datawrangler.viewer.v0+json": {
       "columns": [
        {
         "name": "index",
         "rawType": "int64",
         "type": "integer"
        },
        {
         "name": "StudentID",
         "rawType": "float64",
         "type": "float"
        },
        {
         "name": "Name",
         "rawType": "object",
         "type": "string"
        },
        {
         "name": "Gender",
         "rawType": "object",
         "type": "string"
        },
        {
         "name": "Grade",
         "rawType": "float64",
         "type": "float"
        },
        {
         "name": "Attendance",
         "rawType": "float64",
         "type": "float"
        },
        {
         "name": "Subject",
         "rawType": "object",
         "type": "string"
        },
        {
         "name": "Pass/Fail",
         "rawType": "bool",
         "type": "boolean"
        }
       ],
       "ref": "f8d87e6d-bf1c-4f3b-ba49-a5432bdb43e1",
       "rows": [
        [
         "0",
         "1.0",
         "Charlie",
         "Male",
         "69.0",
         "0.0",
         "English",
         "True"
        ],
        [
         "1",
         "2.0",
         "Frank",
         "Male",
         "55.0",
         "71.0",
         "Physics",
         "True"
        ],
        [
         "2",
         "3.0",
         "Charlie",
         "Male",
         "75.0",
         "97.0",
         "Math",
         "True"
        ],
        [
         "3",
         "4.0",
         "Alice",
         "Male",
         "46.0",
         "59.0",
         "Biology",
         "False"
        ],
        [
         "4",
         "5.0",
         "Noah",
         "Male",
         "47.0",
         "86.0",
         "Math",
         "False"
        ],
        [
         "5",
         "6.0",
         "Alice",
         "Female",
         "87.0",
         "70.0",
         "Biology",
         "True"
        ],
        [
         "6",
         "7.0",
         "Karen",
         "Female",
         "71.0",
         "61.0",
         "Physics",
         "True"
        ],
        [
         "7",
         "8.0",
         "Frank",
         "Male",
         "82.0",
         "95.0",
         "Physics",
         "True"
        ],
        [
         "8",
         "9.0",
         "Bob",
         "Male",
         "82.0",
         "52.0",
         "English",
         "True"
        ],
        [
         "9",
         "10.0",
         "Henry",
         "Male",
         "56.0",
         "86.0",
         "Computer Science",
         "True"
        ],
        [
         "10",
         "11.0",
         "David",
         "Male",
         "83.0",
         "51.0",
         "Computer Science",
         "True"
        ],
        [
         "11",
         "12.0",
         "Noah",
         "Male",
         "78.0",
         "79.0",
         "Science",
         "True"
        ],
        [
         "12",
         "13.0",
         "Karen",
         "Male",
         "40.0",
         "79.0",
         "Science",
         "False"
        ],
        [
         "13",
         "14.0",
         "Frank",
         "Male",
         "50.0",
         "55.0",
         "Computer Science",
         "True"
        ],
        [
         "14",
         "15.0",
         "Alice",
         "Female",
         "65.0",
         "91.0",
         "Physics",
         "True"
        ],
        [
         "15",
         "16.0",
         "Bob",
         "Male",
         "69.0",
         "83.0",
         "Chemistry",
         "True"
        ],
        [
         "16",
         "17.0",
         "Karen",
         "Female",
         "75.0",
         "59.0",
         "Biology",
         "True"
        ],
        [
         "17",
         "18.0",
         "Bob",
         "Female",
         "69.0",
         "55.0",
         "Biology",
         "True"
        ],
        [
         "18",
         "19.0",
         "Alice",
         "Male",
         "63.0",
         "88.0",
         "Chemistry",
         "True"
        ],
        [
         "19",
         "20.0",
         "Alice",
         "Male",
         "96.0",
         "79.0",
         "English",
         "True"
        ],
        [
         "20",
         "21.0",
         "Eve",
         "Female",
         "77.0",
         "0.0",
         "English",
         "True"
        ],
        [
         "21",
         "22.0",
         "Noah",
         "Male",
         "98.0",
         "88.0",
         "Chemistry",
         "True"
        ],
        [
         "22",
         "23.0",
         "David",
         "Female",
         "65.57",
         "99.0",
         "History",
         "True"
        ],
        [
         "23",
         "24.0",
         "Olivia",
         "Male",
         "88.0",
         "61.0",
         "Physics",
         "True"
        ],
        [
         "24",
         "25.0",
         "Bob",
         "Male",
         "54.0",
         "76.0",
         "Computer Science",
         "True"
        ],
        [
         "25",
         "26.0",
         "David",
         "Male",
         "32.0",
         "60.0",
         "History",
         "False"
        ],
        [
         "26",
         "27.0",
         "Frank",
         "Female",
         "50.0",
         "59.0",
         "History",
         "True"
        ],
        [
         "27",
         "28.0",
         "Ivy",
         "Female",
         "41.0",
         "98.0",
         "Computer Science",
         "False"
        ],
        [
         "28",
         "29.0",
         "Grace",
         "Female",
         "64.0",
         "80.0",
         "Biology",
         "True"
        ],
        [
         "29",
         "30.0",
         "Eve",
         "Male",
         "45.0",
         "83.0",
         "Science",
         "False"
        ],
        [
         "30",
         "31.0",
         "Frank",
         "Male",
         "55.0",
         "92.0",
         "Math",
         "True"
        ],
        [
         "31",
         "32.0",
         "Eve",
         "Female",
         "74.0",
         "98.0",
         "Math",
         "True"
        ],
        [
         "32",
         "33.0",
         "Henry",
         "Male",
         "60.0",
         "0.0",
         "Biology",
         "True"
        ],
        [
         "33",
         "34.0",
         "Mia",
         "Female",
         "58.0",
         "72.0",
         "Physics",
         "True"
        ],
        [
         "34",
         "35.0",
         "David",
         "Female",
         "57.0",
         "84.0",
         "Science",
         "True"
        ],
        [
         "35",
         "36.0",
         "Ivy",
         "Male",
         "56.0",
         "92.0",
         "English",
         "True"
        ],
        [
         "36",
         "37.0",
         "Olivia",
         "Male",
         "108.0",
         "59.0",
         "Physics",
         "True"
        ],
        [
         "37",
         "38.0",
         "Grace",
         "Male",
         "50.0",
         "99.0",
         "Chemistry",
         "True"
        ],
        [
         "38",
         "39.0",
         "Grace",
         "Male",
         "59.0",
         "81.0",
         "Biology",
         "True"
        ],
        [
         "39",
         "40.0",
         "Noah",
         "Female",
         "73.0",
         "92.0",
         "Biology",
         "True"
        ],
        [
         "40",
         "41.0",
         "Olivia",
         "Female",
         "58.0",
         "66.0",
         "Biology",
         "True"
        ],
        [
         "41",
         "42.0",
         "Olivia",
         "Male",
         "37.0",
         "59.0",
         "Biology",
         "False"
        ],
        [
         "42",
         "43.0",
         "Mia",
         "Male",
         "60.0",
         "93.0",
         "Computer Science",
         "True"
        ],
        [
         "43",
         "44.0",
         "Henry",
         "Male",
         "65.0",
         "87.0",
         "English",
         "True"
        ],
        [
         "44",
         "45.0",
         "David",
         "Female",
         "87.0",
         "76.0",
         "Chemistry",
         "True"
        ],
        [
         "45",
         "46.0",
         "Frank",
         "Female",
         "76.0",
         "56.0",
         "Math",
         "True"
        ],
        [
         "46",
         "47.0",
         "Noah",
         "Female",
         "66.0",
         "50.0",
         "Biology",
         "True"
        ],
        [
         "47",
         "48.0",
         "Jack",
         "Male",
         "89.0",
         "54.0",
         "Biology",
         "True"
        ],
        [
         "48",
         "49.0",
         "Alice",
         "Male",
         "76.0",
         "98.0",
         "Computer Science",
         "True"
        ],
        [
         "49",
         "50.0",
         "Grace",
         "Male",
         "73.0",
         "65.0",
         "Computer Science",
         "True"
        ]
       ],
       "shape": {
        "columns": 7,
        "rows": 950
       }
      },
      "text/html": [
       "<div>\n",
       "<style scoped>\n",
       "    .dataframe tbody tr th:only-of-type {\n",
       "        vertical-align: middle;\n",
       "    }\n",
       "\n",
       "    .dataframe tbody tr th {\n",
       "        vertical-align: top;\n",
       "    }\n",
       "\n",
       "    .dataframe thead th {\n",
       "        text-align: right;\n",
       "    }\n",
       "</style>\n",
       "<table border=\"1\" class=\"dataframe\">\n",
       "  <thead>\n",
       "    <tr style=\"text-align: right;\">\n",
       "      <th></th>\n",
       "      <th>StudentID</th>\n",
       "      <th>Name</th>\n",
       "      <th>Gender</th>\n",
       "      <th>Grade</th>\n",
       "      <th>Attendance</th>\n",
       "      <th>Subject</th>\n",
       "      <th>Pass/Fail</th>\n",
       "    </tr>\n",
       "  </thead>\n",
       "  <tbody>\n",
       "    <tr>\n",
       "      <th>0</th>\n",
       "      <td>1.0</td>\n",
       "      <td>Charlie</td>\n",
       "      <td>Male</td>\n",
       "      <td>69.0</td>\n",
       "      <td>0.0</td>\n",
       "      <td>English</td>\n",
       "      <td>True</td>\n",
       "    </tr>\n",
       "    <tr>\n",
       "      <th>1</th>\n",
       "      <td>2.0</td>\n",
       "      <td>Frank</td>\n",
       "      <td>Male</td>\n",
       "      <td>55.0</td>\n",
       "      <td>71.0</td>\n",
       "      <td>Physics</td>\n",
       "      <td>True</td>\n",
       "    </tr>\n",
       "    <tr>\n",
       "      <th>2</th>\n",
       "      <td>3.0</td>\n",
       "      <td>Charlie</td>\n",
       "      <td>Male</td>\n",
       "      <td>75.0</td>\n",
       "      <td>97.0</td>\n",
       "      <td>Math</td>\n",
       "      <td>True</td>\n",
       "    </tr>\n",
       "    <tr>\n",
       "      <th>3</th>\n",
       "      <td>4.0</td>\n",
       "      <td>Alice</td>\n",
       "      <td>Male</td>\n",
       "      <td>46.0</td>\n",
       "      <td>59.0</td>\n",
       "      <td>Biology</td>\n",
       "      <td>False</td>\n",
       "    </tr>\n",
       "    <tr>\n",
       "      <th>4</th>\n",
       "      <td>5.0</td>\n",
       "      <td>Noah</td>\n",
       "      <td>Male</td>\n",
       "      <td>47.0</td>\n",
       "      <td>86.0</td>\n",
       "      <td>Math</td>\n",
       "      <td>False</td>\n",
       "    </tr>\n",
       "    <tr>\n",
       "      <th>...</th>\n",
       "      <td>...</td>\n",
       "      <td>...</td>\n",
       "      <td>...</td>\n",
       "      <td>...</td>\n",
       "      <td>...</td>\n",
       "      <td>...</td>\n",
       "      <td>...</td>\n",
       "    </tr>\n",
       "    <tr>\n",
       "      <th>995</th>\n",
       "      <td>996.0</td>\n",
       "      <td>Jack</td>\n",
       "      <td>Male</td>\n",
       "      <td>77.0</td>\n",
       "      <td>60.0</td>\n",
       "      <td>Chemistry</td>\n",
       "      <td>True</td>\n",
       "    </tr>\n",
       "    <tr>\n",
       "      <th>996</th>\n",
       "      <td>997.0</td>\n",
       "      <td>Charlie</td>\n",
       "      <td>Male</td>\n",
       "      <td>63.0</td>\n",
       "      <td>71.0</td>\n",
       "      <td>Science</td>\n",
       "      <td>True</td>\n",
       "    </tr>\n",
       "    <tr>\n",
       "      <th>997</th>\n",
       "      <td>998.0</td>\n",
       "      <td>Noah</td>\n",
       "      <td>Female</td>\n",
       "      <td>51.0</td>\n",
       "      <td>79.0</td>\n",
       "      <td>Math</td>\n",
       "      <td>True</td>\n",
       "    </tr>\n",
       "    <tr>\n",
       "      <th>998</th>\n",
       "      <td>999.0</td>\n",
       "      <td>Charlie</td>\n",
       "      <td>Male</td>\n",
       "      <td>52.0</td>\n",
       "      <td>73.0</td>\n",
       "      <td>English</td>\n",
       "      <td>True</td>\n",
       "    </tr>\n",
       "    <tr>\n",
       "      <th>999</th>\n",
       "      <td>1000.0</td>\n",
       "      <td>Frank</td>\n",
       "      <td>Female</td>\n",
       "      <td>54.0</td>\n",
       "      <td>62.0</td>\n",
       "      <td>Math</td>\n",
       "      <td>True</td>\n",
       "    </tr>\n",
       "  </tbody>\n",
       "</table>\n",
       "<p>950 rows × 7 columns</p>\n",
       "</div>"
      ],
      "text/plain": [
       "     StudentID     Name  Gender  Grade  Attendance    Subject  Pass/Fail\n",
       "0          1.0  Charlie    Male   69.0         0.0    English       True\n",
       "1          2.0    Frank    Male   55.0        71.0    Physics       True\n",
       "2          3.0  Charlie    Male   75.0        97.0       Math       True\n",
       "3          4.0    Alice    Male   46.0        59.0    Biology      False\n",
       "4          5.0     Noah    Male   47.0        86.0       Math      False\n",
       "..         ...      ...     ...    ...         ...        ...        ...\n",
       "995      996.0     Jack    Male   77.0        60.0  Chemistry       True\n",
       "996      997.0  Charlie    Male   63.0        71.0    Science       True\n",
       "997      998.0     Noah  Female   51.0        79.0       Math       True\n",
       "998      999.0  Charlie    Male   52.0        73.0    English       True\n",
       "999     1000.0    Frank  Female   54.0        62.0       Math       True\n",
       "\n",
       "[950 rows x 7 columns]"
      ]
     },
     "execution_count": 88,
     "metadata": {},
     "output_type": "execute_result"
    }
   ],
   "source": [
    "student_data"
   ]
  },
  {
   "cell_type": "code",
   "execution_count": null,
   "id": "7b43c02e",
   "metadata": {},
   "outputs": [
    {
     "data": {
      "application/vnd.microsoft.datawrangler.viewer.v0+json": {
       "columns": [
        {
         "name": "index",
         "rawType": "int64",
         "type": "integer"
        },
        {
         "name": "StudentID",
         "rawType": "float64",
         "type": "float"
        },
        {
         "name": "Name",
         "rawType": "object",
         "type": "string"
        },
        {
         "name": "Gender",
         "rawType": "object",
         "type": "string"
        },
        {
         "name": "Grade",
         "rawType": "float64",
         "type": "float"
        },
        {
         "name": "Attendance",
         "rawType": "float64",
         "type": "float"
        },
        {
         "name": "Subject",
         "rawType": "object",
         "type": "string"
        },
        {
         "name": "Pass/Fail",
         "rawType": "bool",
         "type": "boolean"
        }
       ],
       "ref": "92468b78-d1bb-40bf-9722-252b41ef6052",
       "rows": [
        [
         "2",
         "3.0",
         "Charlie",
         "Male",
         "75.0",
         "97.0",
         "Math",
         "True"
        ],
        [
         "4",
         "5.0",
         "Noah",
         "Male",
         "47.0",
         "86.0",
         "Math",
         "False"
        ],
        [
         "7",
         "8.0",
         "Frank",
         "Male",
         "82.0",
         "95.0",
         "Physics",
         "True"
        ],
        [
         "9",
         "10.0",
         "Henry",
         "Male",
         "56.0",
         "86.0",
         "Computer Science",
         "True"
        ],
        [
         "11",
         "12.0",
         "Noah",
         "Male",
         "78.0",
         "79.0",
         "Science",
         "True"
        ],
        [
         "12",
         "13.0",
         "Karen",
         "Male",
         "40.0",
         "79.0",
         "Science",
         "False"
        ],
        [
         "14",
         "15.0",
         "Alice",
         "Female",
         "65.0",
         "91.0",
         "Physics",
         "True"
        ],
        [
         "15",
         "16.0",
         "Bob",
         "Male",
         "69.0",
         "83.0",
         "Chemistry",
         "True"
        ],
        [
         "18",
         "19.0",
         "Alice",
         "Male",
         "63.0",
         "88.0",
         "Chemistry",
         "True"
        ],
        [
         "19",
         "20.0",
         "Alice",
         "Male",
         "96.0",
         "79.0",
         "English",
         "True"
        ],
        [
         "21",
         "22.0",
         "Noah",
         "Male",
         "98.0",
         "88.0",
         "Chemistry",
         "True"
        ],
        [
         "22",
         "23.0",
         "David",
         "Female",
         "65.57",
         "99.0",
         "History",
         "True"
        ],
        [
         "24",
         "25.0",
         "Bob",
         "Male",
         "54.0",
         "76.0",
         "Computer Science",
         "True"
        ],
        [
         "27",
         "28.0",
         "Ivy",
         "Female",
         "41.0",
         "98.0",
         "Computer Science",
         "False"
        ],
        [
         "28",
         "29.0",
         "Grace",
         "Female",
         "64.0",
         "80.0",
         "Biology",
         "True"
        ],
        [
         "29",
         "30.0",
         "Eve",
         "Male",
         "45.0",
         "83.0",
         "Science",
         "False"
        ],
        [
         "30",
         "31.0",
         "Frank",
         "Male",
         "55.0",
         "92.0",
         "Math",
         "True"
        ],
        [
         "31",
         "32.0",
         "Eve",
         "Female",
         "74.0",
         "98.0",
         "Math",
         "True"
        ],
        [
         "34",
         "35.0",
         "David",
         "Female",
         "57.0",
         "84.0",
         "Science",
         "True"
        ],
        [
         "35",
         "36.0",
         "Ivy",
         "Male",
         "56.0",
         "92.0",
         "English",
         "True"
        ],
        [
         "37",
         "38.0",
         "Grace",
         "Male",
         "50.0",
         "99.0",
         "Chemistry",
         "True"
        ],
        [
         "38",
         "39.0",
         "Grace",
         "Male",
         "59.0",
         "81.0",
         "Biology",
         "True"
        ],
        [
         "39",
         "40.0",
         "Noah",
         "Female",
         "73.0",
         "92.0",
         "Biology",
         "True"
        ],
        [
         "42",
         "43.0",
         "Mia",
         "Male",
         "60.0",
         "93.0",
         "Computer Science",
         "True"
        ],
        [
         "43",
         "44.0",
         "Henry",
         "Male",
         "65.0",
         "87.0",
         "English",
         "True"
        ],
        [
         "44",
         "45.0",
         "David",
         "Female",
         "87.0",
         "76.0",
         "Chemistry",
         "True"
        ],
        [
         "48",
         "49.0",
         "Alice",
         "Male",
         "76.0",
         "98.0",
         "Computer Science",
         "True"
        ],
        [
         "53",
         "54.0",
         "Eve",
         "Female",
         "56.0",
         "98.0",
         "Computer Science",
         "True"
        ],
        [
         "56",
         "57.0",
         "Henry",
         "Female",
         "79.0",
         "82.0",
         "Math",
         "True"
        ],
        [
         "60",
         "61.0",
         "Bob",
         "Male",
         "55.0",
         "98.0",
         "History",
         "True"
        ],
        [
         "61",
         "62.0",
         "Henry",
         "Male",
         "73.0",
         "83.0",
         "Computer Science",
         "True"
        ],
        [
         "62",
         "63.0",
         "Eve",
         "Male",
         "35.0",
         "79.0",
         "Physics",
         "False"
        ],
        [
         "65",
         "66.0",
         "Alice",
         "Male",
         "65.57",
         "81.0",
         "Chemistry",
         "True"
        ],
        [
         "68",
         "69.0",
         "Liam",
         "Female",
         "70.0",
         "99.0",
         "Biology",
         "True"
        ],
        [
         "70",
         "71.0",
         "Ivy",
         "Female",
         "49.0",
         "96.0",
         "History",
         "False"
        ],
        [
         "74",
         "75.0",
         "David",
         "Male",
         "60.0",
         "100.0",
         "Math",
         "True"
        ],
        [
         "75",
         "76.0",
         "David",
         "Male",
         "56.0",
         "95.0",
         "Physics",
         "True"
        ],
        [
         "77",
         "78.0",
         "Jack",
         "Male",
         "38.0",
         "98.0",
         "Physics",
         "False"
        ],
        [
         "78",
         "79.0",
         "Noah",
         "Female",
         "64.0",
         "85.0",
         "Computer Science",
         "True"
        ],
        [
         "79",
         "80.0",
         "Frank",
         "Female",
         "86.0",
         "91.0",
         "English",
         "True"
        ],
        [
         "83",
         "84.0",
         "Bob",
         "Male",
         "67.0",
         "97.0",
         "Science",
         "True"
        ],
        [
         "84",
         "85.0",
         "Karen",
         "Female",
         "74.0",
         "96.0",
         "Chemistry",
         "True"
        ],
        [
         "85",
         "86.0",
         "Bob",
         "Female",
         "74.0",
         "76.0",
         "Chemistry",
         "True"
        ],
        [
         "87",
         "88.0",
         "Bob",
         "Male",
         "74.0",
         "96.0",
         "English",
         "True"
        ],
        [
         "88",
         "89.0",
         "Bob",
         "Female",
         "62.0",
         "96.0",
         "Physics",
         "True"
        ],
        [
         "89",
         "90.0",
         "Frank",
         "Female",
         "47.0",
         "88.0",
         "Physics",
         "False"
        ],
        [
         "90",
         "91.0",
         "Jack",
         "Male",
         "56.0",
         "81.0",
         "Chemistry",
         "True"
        ],
        [
         "91",
         "92.0",
         "Noah",
         "Female",
         "69.0",
         "92.0",
         "Computer Science",
         "True"
        ],
        [
         "92",
         "93.0",
         "Grace",
         "Female",
         "55.0",
         "85.0",
         "History",
         "True"
        ],
        [
         "94",
         "95.0",
         "David",
         "Male",
         "76.0",
         "85.0",
         "Math",
         "True"
        ]
       ],
       "shape": {
        "columns": 7,
        "rows": 451
       }
      },
      "text/html": [
       "<div>\n",
       "<style scoped>\n",
       "    .dataframe tbody tr th:only-of-type {\n",
       "        vertical-align: middle;\n",
       "    }\n",
       "\n",
       "    .dataframe tbody tr th {\n",
       "        vertical-align: top;\n",
       "    }\n",
       "\n",
       "    .dataframe thead th {\n",
       "        text-align: right;\n",
       "    }\n",
       "</style>\n",
       "<table border=\"1\" class=\"dataframe\">\n",
       "  <thead>\n",
       "    <tr style=\"text-align: right;\">\n",
       "      <th></th>\n",
       "      <th>StudentID</th>\n",
       "      <th>Name</th>\n",
       "      <th>Gender</th>\n",
       "      <th>Grade</th>\n",
       "      <th>Attendance</th>\n",
       "      <th>Subject</th>\n",
       "      <th>Pass/Fail</th>\n",
       "    </tr>\n",
       "  </thead>\n",
       "  <tbody>\n",
       "    <tr>\n",
       "      <th>2</th>\n",
       "      <td>3.0</td>\n",
       "      <td>Charlie</td>\n",
       "      <td>Male</td>\n",
       "      <td>75.0</td>\n",
       "      <td>97.0</td>\n",
       "      <td>Math</td>\n",
       "      <td>True</td>\n",
       "    </tr>\n",
       "    <tr>\n",
       "      <th>4</th>\n",
       "      <td>5.0</td>\n",
       "      <td>Noah</td>\n",
       "      <td>Male</td>\n",
       "      <td>47.0</td>\n",
       "      <td>86.0</td>\n",
       "      <td>Math</td>\n",
       "      <td>False</td>\n",
       "    </tr>\n",
       "    <tr>\n",
       "      <th>7</th>\n",
       "      <td>8.0</td>\n",
       "      <td>Frank</td>\n",
       "      <td>Male</td>\n",
       "      <td>82.0</td>\n",
       "      <td>95.0</td>\n",
       "      <td>Physics</td>\n",
       "      <td>True</td>\n",
       "    </tr>\n",
       "    <tr>\n",
       "      <th>9</th>\n",
       "      <td>10.0</td>\n",
       "      <td>Henry</td>\n",
       "      <td>Male</td>\n",
       "      <td>56.0</td>\n",
       "      <td>86.0</td>\n",
       "      <td>Computer Science</td>\n",
       "      <td>True</td>\n",
       "    </tr>\n",
       "    <tr>\n",
       "      <th>11</th>\n",
       "      <td>12.0</td>\n",
       "      <td>Noah</td>\n",
       "      <td>Male</td>\n",
       "      <td>78.0</td>\n",
       "      <td>79.0</td>\n",
       "      <td>Science</td>\n",
       "      <td>True</td>\n",
       "    </tr>\n",
       "    <tr>\n",
       "      <th>...</th>\n",
       "      <td>...</td>\n",
       "      <td>...</td>\n",
       "      <td>...</td>\n",
       "      <td>...</td>\n",
       "      <td>...</td>\n",
       "      <td>...</td>\n",
       "      <td>...</td>\n",
       "    </tr>\n",
       "    <tr>\n",
       "      <th>986</th>\n",
       "      <td>987.0</td>\n",
       "      <td>Mia</td>\n",
       "      <td>Female</td>\n",
       "      <td>67.0</td>\n",
       "      <td>88.0</td>\n",
       "      <td>Physics</td>\n",
       "      <td>True</td>\n",
       "    </tr>\n",
       "    <tr>\n",
       "      <th>987</th>\n",
       "      <td>988.0</td>\n",
       "      <td>Jack</td>\n",
       "      <td>Female</td>\n",
       "      <td>66.0</td>\n",
       "      <td>77.0</td>\n",
       "      <td>English</td>\n",
       "      <td>True</td>\n",
       "    </tr>\n",
       "    <tr>\n",
       "      <th>988</th>\n",
       "      <td>989.0</td>\n",
       "      <td>Charlie</td>\n",
       "      <td>Female</td>\n",
       "      <td>75.0</td>\n",
       "      <td>93.0</td>\n",
       "      <td>History</td>\n",
       "      <td>True</td>\n",
       "    </tr>\n",
       "    <tr>\n",
       "      <th>992</th>\n",
       "      <td>993.0</td>\n",
       "      <td>Eve</td>\n",
       "      <td>Male</td>\n",
       "      <td>53.0</td>\n",
       "      <td>76.0</td>\n",
       "      <td>Science</td>\n",
       "      <td>True</td>\n",
       "    </tr>\n",
       "    <tr>\n",
       "      <th>997</th>\n",
       "      <td>998.0</td>\n",
       "      <td>Noah</td>\n",
       "      <td>Female</td>\n",
       "      <td>51.0</td>\n",
       "      <td>79.0</td>\n",
       "      <td>Math</td>\n",
       "      <td>True</td>\n",
       "    </tr>\n",
       "  </tbody>\n",
       "</table>\n",
       "<p>451 rows × 7 columns</p>\n",
       "</div>"
      ],
      "text/plain": [
       "     StudentID     Name  Gender  Grade  Attendance           Subject  \\\n",
       "2          3.0  Charlie    Male   75.0        97.0              Math   \n",
       "4          5.0     Noah    Male   47.0        86.0              Math   \n",
       "7          8.0    Frank    Male   82.0        95.0           Physics   \n",
       "9         10.0    Henry    Male   56.0        86.0  Computer Science   \n",
       "11        12.0     Noah    Male   78.0        79.0           Science   \n",
       "..         ...      ...     ...    ...         ...               ...   \n",
       "986      987.0      Mia  Female   67.0        88.0           Physics   \n",
       "987      988.0     Jack  Female   66.0        77.0           English   \n",
       "988      989.0  Charlie  Female   75.0        93.0           History   \n",
       "992      993.0      Eve    Male   53.0        76.0           Science   \n",
       "997      998.0     Noah  Female   51.0        79.0              Math   \n",
       "\n",
       "     Pass/Fail  \n",
       "2         True  \n",
       "4        False  \n",
       "7         True  \n",
       "9         True  \n",
       "11        True  \n",
       "..         ...  \n",
       "986       True  \n",
       "987       True  \n",
       "988       True  \n",
       "992       True  \n",
       "997       True  \n",
       "\n",
       "[451 rows x 7 columns]"
      ]
     },
     "execution_count": 89,
     "metadata": {},
     "output_type": "execute_result"
    }
   ],
   "source": [
    "attending=student_data['Attendance']>75\n",
    "student_data2=student_data[attending]\n",
    "student_data2 #second dataframe containing only students that have an attendance over 75"
   ]
  },
  {
   "cell_type": "code",
   "execution_count": 90,
   "id": "99c1db90",
   "metadata": {},
   "outputs": [],
   "source": [
    "student_data2=student_data2.sort_values('Attendance',ascending=False)"
   ]
  },
  {
   "cell_type": "code",
   "execution_count": null,
   "id": "120639d6",
   "metadata": {},
   "outputs": [
    {
     "data": {
      "application/vnd.microsoft.datawrangler.viewer.v0+json": {
       "columns": [
        {
         "name": "Subject",
         "rawType": "object",
         "type": "string"
        },
        {
         "name": "Grade",
         "rawType": "float64",
         "type": "float"
        }
       ],
       "ref": "47c3b1d8-9dbd-4141-aa18-d599656c4966",
       "rows": [
        [
         "Biology",
         "64.85949579831933"
        ],
        [
         "Chemistry",
         "67.69808695652173"
        ],
        [
         "Computer Science",
         "64.56881818181817"
        ],
        [
         "English",
         "65.43206611570248"
        ],
        [
         "History",
         "65.03141732283464"
        ],
        [
         "Math",
         "65.34079207920792"
        ],
        [
         "Physics",
         "66.22362831858406"
        ],
        [
         "Science",
         "65.19041666666666"
        ]
       ],
       "shape": {
        "columns": 1,
        "rows": 8
       }
      },
      "text/plain": [
       "Subject\n",
       "Biology             64.859496\n",
       "Chemistry           67.698087\n",
       "Computer Science    64.568818\n",
       "English             65.432066\n",
       "History             65.031417\n",
       "Math                65.340792\n",
       "Physics             66.223628\n",
       "Science             65.190417\n",
       "Name: Grade, dtype: float64"
      ]
     },
     "execution_count": 91,
     "metadata": {},
     "output_type": "execute_result"
    }
   ],
   "source": [
    "student_data.groupby(student_data.Subject).Grade.mean() #average grade in each subject"
   ]
  },
  {
   "cell_type": "code",
   "execution_count": null,
   "id": "742a2e58",
   "metadata": {},
   "outputs": [
    {
     "name": "stderr",
     "output_type": "stream",
     "text": [
      "C:\\Users\\zende\\AppData\\Local\\Temp\\ipykernel_19064\\1645944135.py:1: DeprecationWarning: DataFrameGroupBy.apply operated on the grouping columns. This behavior is deprecated, and in a future version of pandas the grouping columns will be excluded from the operation. Either pass `include_groups=False` to exclude the groupings or explicitly select the grouping columns after groupby to silence this warning.\n",
      "  top_3_students=student_data.groupby('Subject').apply(lambda x: x.nlargest(3,'Grade'))\n"
     ]
    },
    {
     "data": {
      "application/vnd.microsoft.datawrangler.viewer.v0+json": {
       "columns": [
        {
         "name": "('Subject', None)",
         "rawType": "object",
         "type": "unknown"
        },
        {
         "name": "StudentID",
         "rawType": "float64",
         "type": "float"
        },
        {
         "name": "Name",
         "rawType": "object",
         "type": "string"
        },
        {
         "name": "Gender",
         "rawType": "object",
         "type": "string"
        },
        {
         "name": "Grade",
         "rawType": "float64",
         "type": "float"
        },
        {
         "name": "Attendance",
         "rawType": "float64",
         "type": "float"
        },
        {
         "name": "Subject",
         "rawType": "object",
         "type": "string"
        },
        {
         "name": "Pass/Fail",
         "rawType": "bool",
         "type": "boolean"
        }
       ],
       "ref": "e2c57878-ed86-4890-b3ed-9d130b46315b",
       "rows": [
        [
         "('Biology', 994)",
         "995.0",
         "Karen",
         "Female",
         "101.0",
         "58.0",
         "Biology",
         "True"
        ],
        [
         "('Biology', 860)",
         "861.0",
         "Henry",
         "Female",
         "98.0",
         "0.0",
         "Biology",
         "True"
        ],
        [
         "('Biology', 494)",
         "495.0",
         "Liam",
         "Female",
         "92.0",
         "69.0",
         "Biology",
         "True"
        ],
        [
         "('Chemistry', 926)",
         "927.0",
         "Charlie",
         "Female",
         "107.0",
         "72.0",
         "Chemistry",
         "True"
        ],
        [
         "('Chemistry', 739)",
         "740.0",
         "Liam",
         "Male",
         "101.0",
         "60.0",
         "Chemistry",
         "True"
        ],
        [
         "('Chemistry', 734)",
         "735.0",
         "Karen",
         "Male",
         "100.0",
         "0.0",
         "Chemistry",
         "True"
        ],
        [
         "('Computer Science', 563)",
         "564.0",
         "Eve",
         "Male",
         "100.0",
         "93.0",
         "Computer Science",
         "True"
        ],
        [
         "('Computer Science', 141)",
         "142.0",
         "Olivia",
         "Male",
         "89.0",
         "55.0",
         "Computer Science",
         "True"
        ],
        [
         "('Computer Science', 873)",
         "874.0",
         "Olivia",
         "Female",
         "88.0",
         "80.0",
         "Computer Science",
         "True"
        ],
        [
         "('English', 844)",
         "845.0",
         "Bob",
         "Male",
         "106.0",
         "54.0",
         "English",
         "True"
        ],
        [
         "('English', 977)",
         "978.0",
         "Henry",
         "Male",
         "98.0",
         "61.0",
         "English",
         "True"
        ],
        [
         "('English', 19)",
         "20.0",
         "Alice",
         "Male",
         "96.0",
         "79.0",
         "English",
         "True"
        ],
        [
         "('History', 353)",
         "354.0",
         "Alice",
         "Male",
         "101.0",
         "87.0",
         "History",
         "True"
        ],
        [
         "('History', 657)",
         "658.0",
         "Jack",
         "Male",
         "94.0",
         "64.0",
         "History",
         "True"
        ],
        [
         "('History', 877)",
         "878.0",
         "Ivy",
         "Female",
         "94.0",
         "85.0",
         "History",
         "True"
        ],
        [
         "('Math', 198)",
         "199.0",
         "Jack",
         "Male",
         "107.0",
         "0.0",
         "Math",
         "True"
        ],
        [
         "('Math', 715)",
         "716.0",
         "Noah",
         "Male",
         "107.0",
         "97.0",
         "Math",
         "True"
        ],
        [
         "('Math', 939)",
         "940.0",
         "Jack",
         "Female",
         "101.0",
         "66.0",
         "Math",
         "True"
        ],
        [
         "('Physics', 36)",
         "37.0",
         "Olivia",
         "Male",
         "108.0",
         "59.0",
         "Physics",
         "True"
        ],
        [
         "('Physics', 275)",
         "276.0",
         "Mia",
         "Male",
         "103.0",
         "78.0",
         "Physics",
         "True"
        ],
        [
         "('Physics', 846)",
         "847.0",
         "Henry",
         "Female",
         "101.0",
         "75.0",
         "Physics",
         "True"
        ],
        [
         "('Science', 274)",
         "275.0",
         "Jack",
         "Male",
         "103.0",
         "63.0",
         "Science",
         "True"
        ],
        [
         "('Science', 840)",
         "841.0",
         "David",
         "Male",
         "102.0",
         "76.0",
         "Science",
         "True"
        ],
        [
         "('Science', 786)",
         "787.0",
         "Liam",
         "Male",
         "97.0",
         "74.0",
         "Science",
         "True"
        ]
       ],
       "shape": {
        "columns": 7,
        "rows": 24
       }
      },
      "text/html": [
       "<div>\n",
       "<style scoped>\n",
       "    .dataframe tbody tr th:only-of-type {\n",
       "        vertical-align: middle;\n",
       "    }\n",
       "\n",
       "    .dataframe tbody tr th {\n",
       "        vertical-align: top;\n",
       "    }\n",
       "\n",
       "    .dataframe thead th {\n",
       "        text-align: right;\n",
       "    }\n",
       "</style>\n",
       "<table border=\"1\" class=\"dataframe\">\n",
       "  <thead>\n",
       "    <tr style=\"text-align: right;\">\n",
       "      <th></th>\n",
       "      <th></th>\n",
       "      <th>StudentID</th>\n",
       "      <th>Name</th>\n",
       "      <th>Gender</th>\n",
       "      <th>Grade</th>\n",
       "      <th>Attendance</th>\n",
       "      <th>Subject</th>\n",
       "      <th>Pass/Fail</th>\n",
       "    </tr>\n",
       "    <tr>\n",
       "      <th>Subject</th>\n",
       "      <th></th>\n",
       "      <th></th>\n",
       "      <th></th>\n",
       "      <th></th>\n",
       "      <th></th>\n",
       "      <th></th>\n",
       "      <th></th>\n",
       "      <th></th>\n",
       "    </tr>\n",
       "  </thead>\n",
       "  <tbody>\n",
       "    <tr>\n",
       "      <th rowspan=\"3\" valign=\"top\">Biology</th>\n",
       "      <th>994</th>\n",
       "      <td>995.0</td>\n",
       "      <td>Karen</td>\n",
       "      <td>Female</td>\n",
       "      <td>101.0</td>\n",
       "      <td>58.0</td>\n",
       "      <td>Biology</td>\n",
       "      <td>True</td>\n",
       "    </tr>\n",
       "    <tr>\n",
       "      <th>860</th>\n",
       "      <td>861.0</td>\n",
       "      <td>Henry</td>\n",
       "      <td>Female</td>\n",
       "      <td>98.0</td>\n",
       "      <td>0.0</td>\n",
       "      <td>Biology</td>\n",
       "      <td>True</td>\n",
       "    </tr>\n",
       "    <tr>\n",
       "      <th>494</th>\n",
       "      <td>495.0</td>\n",
       "      <td>Liam</td>\n",
       "      <td>Female</td>\n",
       "      <td>92.0</td>\n",
       "      <td>69.0</td>\n",
       "      <td>Biology</td>\n",
       "      <td>True</td>\n",
       "    </tr>\n",
       "    <tr>\n",
       "      <th rowspan=\"3\" valign=\"top\">Chemistry</th>\n",
       "      <th>926</th>\n",
       "      <td>927.0</td>\n",
       "      <td>Charlie</td>\n",
       "      <td>Female</td>\n",
       "      <td>107.0</td>\n",
       "      <td>72.0</td>\n",
       "      <td>Chemistry</td>\n",
       "      <td>True</td>\n",
       "    </tr>\n",
       "    <tr>\n",
       "      <th>739</th>\n",
       "      <td>740.0</td>\n",
       "      <td>Liam</td>\n",
       "      <td>Male</td>\n",
       "      <td>101.0</td>\n",
       "      <td>60.0</td>\n",
       "      <td>Chemistry</td>\n",
       "      <td>True</td>\n",
       "    </tr>\n",
       "    <tr>\n",
       "      <th>734</th>\n",
       "      <td>735.0</td>\n",
       "      <td>Karen</td>\n",
       "      <td>Male</td>\n",
       "      <td>100.0</td>\n",
       "      <td>0.0</td>\n",
       "      <td>Chemistry</td>\n",
       "      <td>True</td>\n",
       "    </tr>\n",
       "    <tr>\n",
       "      <th rowspan=\"3\" valign=\"top\">Computer Science</th>\n",
       "      <th>563</th>\n",
       "      <td>564.0</td>\n",
       "      <td>Eve</td>\n",
       "      <td>Male</td>\n",
       "      <td>100.0</td>\n",
       "      <td>93.0</td>\n",
       "      <td>Computer Science</td>\n",
       "      <td>True</td>\n",
       "    </tr>\n",
       "    <tr>\n",
       "      <th>141</th>\n",
       "      <td>142.0</td>\n",
       "      <td>Olivia</td>\n",
       "      <td>Male</td>\n",
       "      <td>89.0</td>\n",
       "      <td>55.0</td>\n",
       "      <td>Computer Science</td>\n",
       "      <td>True</td>\n",
       "    </tr>\n",
       "    <tr>\n",
       "      <th>873</th>\n",
       "      <td>874.0</td>\n",
       "      <td>Olivia</td>\n",
       "      <td>Female</td>\n",
       "      <td>88.0</td>\n",
       "      <td>80.0</td>\n",
       "      <td>Computer Science</td>\n",
       "      <td>True</td>\n",
       "    </tr>\n",
       "    <tr>\n",
       "      <th rowspan=\"3\" valign=\"top\">English</th>\n",
       "      <th>844</th>\n",
       "      <td>845.0</td>\n",
       "      <td>Bob</td>\n",
       "      <td>Male</td>\n",
       "      <td>106.0</td>\n",
       "      <td>54.0</td>\n",
       "      <td>English</td>\n",
       "      <td>True</td>\n",
       "    </tr>\n",
       "    <tr>\n",
       "      <th>977</th>\n",
       "      <td>978.0</td>\n",
       "      <td>Henry</td>\n",
       "      <td>Male</td>\n",
       "      <td>98.0</td>\n",
       "      <td>61.0</td>\n",
       "      <td>English</td>\n",
       "      <td>True</td>\n",
       "    </tr>\n",
       "    <tr>\n",
       "      <th>19</th>\n",
       "      <td>20.0</td>\n",
       "      <td>Alice</td>\n",
       "      <td>Male</td>\n",
       "      <td>96.0</td>\n",
       "      <td>79.0</td>\n",
       "      <td>English</td>\n",
       "      <td>True</td>\n",
       "    </tr>\n",
       "    <tr>\n",
       "      <th rowspan=\"3\" valign=\"top\">History</th>\n",
       "      <th>353</th>\n",
       "      <td>354.0</td>\n",
       "      <td>Alice</td>\n",
       "      <td>Male</td>\n",
       "      <td>101.0</td>\n",
       "      <td>87.0</td>\n",
       "      <td>History</td>\n",
       "      <td>True</td>\n",
       "    </tr>\n",
       "    <tr>\n",
       "      <th>657</th>\n",
       "      <td>658.0</td>\n",
       "      <td>Jack</td>\n",
       "      <td>Male</td>\n",
       "      <td>94.0</td>\n",
       "      <td>64.0</td>\n",
       "      <td>History</td>\n",
       "      <td>True</td>\n",
       "    </tr>\n",
       "    <tr>\n",
       "      <th>877</th>\n",
       "      <td>878.0</td>\n",
       "      <td>Ivy</td>\n",
       "      <td>Female</td>\n",
       "      <td>94.0</td>\n",
       "      <td>85.0</td>\n",
       "      <td>History</td>\n",
       "      <td>True</td>\n",
       "    </tr>\n",
       "    <tr>\n",
       "      <th rowspan=\"3\" valign=\"top\">Math</th>\n",
       "      <th>198</th>\n",
       "      <td>199.0</td>\n",
       "      <td>Jack</td>\n",
       "      <td>Male</td>\n",
       "      <td>107.0</td>\n",
       "      <td>0.0</td>\n",
       "      <td>Math</td>\n",
       "      <td>True</td>\n",
       "    </tr>\n",
       "    <tr>\n",
       "      <th>715</th>\n",
       "      <td>716.0</td>\n",
       "      <td>Noah</td>\n",
       "      <td>Male</td>\n",
       "      <td>107.0</td>\n",
       "      <td>97.0</td>\n",
       "      <td>Math</td>\n",
       "      <td>True</td>\n",
       "    </tr>\n",
       "    <tr>\n",
       "      <th>939</th>\n",
       "      <td>940.0</td>\n",
       "      <td>Jack</td>\n",
       "      <td>Female</td>\n",
       "      <td>101.0</td>\n",
       "      <td>66.0</td>\n",
       "      <td>Math</td>\n",
       "      <td>True</td>\n",
       "    </tr>\n",
       "    <tr>\n",
       "      <th rowspan=\"3\" valign=\"top\">Physics</th>\n",
       "      <th>36</th>\n",
       "      <td>37.0</td>\n",
       "      <td>Olivia</td>\n",
       "      <td>Male</td>\n",
       "      <td>108.0</td>\n",
       "      <td>59.0</td>\n",
       "      <td>Physics</td>\n",
       "      <td>True</td>\n",
       "    </tr>\n",
       "    <tr>\n",
       "      <th>275</th>\n",
       "      <td>276.0</td>\n",
       "      <td>Mia</td>\n",
       "      <td>Male</td>\n",
       "      <td>103.0</td>\n",
       "      <td>78.0</td>\n",
       "      <td>Physics</td>\n",
       "      <td>True</td>\n",
       "    </tr>\n",
       "    <tr>\n",
       "      <th>846</th>\n",
       "      <td>847.0</td>\n",
       "      <td>Henry</td>\n",
       "      <td>Female</td>\n",
       "      <td>101.0</td>\n",
       "      <td>75.0</td>\n",
       "      <td>Physics</td>\n",
       "      <td>True</td>\n",
       "    </tr>\n",
       "    <tr>\n",
       "      <th rowspan=\"3\" valign=\"top\">Science</th>\n",
       "      <th>274</th>\n",
       "      <td>275.0</td>\n",
       "      <td>Jack</td>\n",
       "      <td>Male</td>\n",
       "      <td>103.0</td>\n",
       "      <td>63.0</td>\n",
       "      <td>Science</td>\n",
       "      <td>True</td>\n",
       "    </tr>\n",
       "    <tr>\n",
       "      <th>840</th>\n",
       "      <td>841.0</td>\n",
       "      <td>David</td>\n",
       "      <td>Male</td>\n",
       "      <td>102.0</td>\n",
       "      <td>76.0</td>\n",
       "      <td>Science</td>\n",
       "      <td>True</td>\n",
       "    </tr>\n",
       "    <tr>\n",
       "      <th>786</th>\n",
       "      <td>787.0</td>\n",
       "      <td>Liam</td>\n",
       "      <td>Male</td>\n",
       "      <td>97.0</td>\n",
       "      <td>74.0</td>\n",
       "      <td>Science</td>\n",
       "      <td>True</td>\n",
       "    </tr>\n",
       "  </tbody>\n",
       "</table>\n",
       "</div>"
      ],
      "text/plain": [
       "                      StudentID     Name  Gender  Grade  Attendance  \\\n",
       "Subject                                                               \n",
       "Biology          994      995.0    Karen  Female  101.0        58.0   \n",
       "                 860      861.0    Henry  Female   98.0         0.0   \n",
       "                 494      495.0     Liam  Female   92.0        69.0   \n",
       "Chemistry        926      927.0  Charlie  Female  107.0        72.0   \n",
       "                 739      740.0     Liam    Male  101.0        60.0   \n",
       "                 734      735.0    Karen    Male  100.0         0.0   \n",
       "Computer Science 563      564.0      Eve    Male  100.0        93.0   \n",
       "                 141      142.0   Olivia    Male   89.0        55.0   \n",
       "                 873      874.0   Olivia  Female   88.0        80.0   \n",
       "English          844      845.0      Bob    Male  106.0        54.0   \n",
       "                 977      978.0    Henry    Male   98.0        61.0   \n",
       "                 19        20.0    Alice    Male   96.0        79.0   \n",
       "History          353      354.0    Alice    Male  101.0        87.0   \n",
       "                 657      658.0     Jack    Male   94.0        64.0   \n",
       "                 877      878.0      Ivy  Female   94.0        85.0   \n",
       "Math             198      199.0     Jack    Male  107.0         0.0   \n",
       "                 715      716.0     Noah    Male  107.0        97.0   \n",
       "                 939      940.0     Jack  Female  101.0        66.0   \n",
       "Physics          36        37.0   Olivia    Male  108.0        59.0   \n",
       "                 275      276.0      Mia    Male  103.0        78.0   \n",
       "                 846      847.0    Henry  Female  101.0        75.0   \n",
       "Science          274      275.0     Jack    Male  103.0        63.0   \n",
       "                 840      841.0    David    Male  102.0        76.0   \n",
       "                 786      787.0     Liam    Male   97.0        74.0   \n",
       "\n",
       "                               Subject  Pass/Fail  \n",
       "Subject                                            \n",
       "Biology          994           Biology       True  \n",
       "                 860           Biology       True  \n",
       "                 494           Biology       True  \n",
       "Chemistry        926         Chemistry       True  \n",
       "                 739         Chemistry       True  \n",
       "                 734         Chemistry       True  \n",
       "Computer Science 563  Computer Science       True  \n",
       "                 141  Computer Science       True  \n",
       "                 873  Computer Science       True  \n",
       "English          844           English       True  \n",
       "                 977           English       True  \n",
       "                 19            English       True  \n",
       "History          353           History       True  \n",
       "                 657           History       True  \n",
       "                 877           History       True  \n",
       "Math             198              Math       True  \n",
       "                 715              Math       True  \n",
       "                 939              Math       True  \n",
       "Physics          36            Physics       True  \n",
       "                 275           Physics       True  \n",
       "                 846           Physics       True  \n",
       "Science          274           Science       True  \n",
       "                 840           Science       True  \n",
       "                 786           Science       True  "
      ]
     },
     "execution_count": 92,
     "metadata": {},
     "output_type": "execute_result"
    }
   ],
   "source": [
    "top_3_students=student_data.groupby('Subject').apply(lambda x: x.nlargest(3,'Grade'))\n",
    "#sorts the top 3 students by grade in each subject\n",
    "top_3_students"
   ]
  },
  {
   "cell_type": "code",
   "execution_count": 93,
   "id": "967b02ef",
   "metadata": {},
   "outputs": [
    {
     "name": "stdout",
     "output_type": "stream",
     "text": [
      "                      StudentID     Name  Gender  Grade  Attendance  \\\n",
      "Subject                                                               \n",
      "Biology          994      995.0    Karen  Female  101.0        58.0   \n",
      "                 860      861.0    Henry  Female   98.0         0.0   \n",
      "                 494      495.0     Liam  Female   92.0        69.0   \n",
      "Chemistry        926      927.0  Charlie  Female  107.0        72.0   \n",
      "                 739      740.0     Liam    Male  101.0        60.0   \n",
      "                 734      735.0    Karen    Male  100.0         0.0   \n",
      "Computer Science 563      564.0      Eve    Male  100.0        93.0   \n",
      "                 141      142.0   Olivia    Male   89.0        55.0   \n",
      "                 873      874.0   Olivia  Female   88.0        80.0   \n",
      "English          844      845.0      Bob    Male  106.0        54.0   \n",
      "                 977      978.0    Henry    Male   98.0        61.0   \n",
      "                 19        20.0    Alice    Male   96.0        79.0   \n",
      "History          353      354.0    Alice    Male  101.0        87.0   \n",
      "                 657      658.0     Jack    Male   94.0        64.0   \n",
      "                 877      878.0      Ivy  Female   94.0        85.0   \n",
      "Math             198      199.0     Jack    Male  107.0         0.0   \n",
      "                 715      716.0     Noah    Male  107.0        97.0   \n",
      "                 939      940.0     Jack  Female  101.0        66.0   \n",
      "Physics          36        37.0   Olivia    Male  108.0        59.0   \n",
      "                 275      276.0      Mia    Male  103.0        78.0   \n",
      "                 846      847.0    Henry  Female  101.0        75.0   \n",
      "Science          274      275.0     Jack    Male  103.0        63.0   \n",
      "                 840      841.0    David    Male  102.0        76.0   \n",
      "                 786      787.0     Liam    Male   97.0        74.0   \n",
      "\n",
      "                               Subject  Pass/Fail  \n",
      "Subject                                            \n",
      "Biology          994           Biology       True  \n",
      "                 860           Biology       True  \n",
      "                 494           Biology       True  \n",
      "Chemistry        926         Chemistry       True  \n",
      "                 739         Chemistry       True  \n",
      "                 734         Chemistry       True  \n",
      "Computer Science 563  Computer Science       True  \n",
      "                 141  Computer Science       True  \n",
      "                 873  Computer Science       True  \n",
      "English          844           English       True  \n",
      "                 977           English       True  \n",
      "                 19            English       True  \n",
      "History          353           History       True  \n",
      "                 657           History       True  \n",
      "                 877           History       True  \n",
      "Math             198              Math       True  \n",
      "                 715              Math       True  \n",
      "                 939              Math       True  \n",
      "Physics          36            Physics       True  \n",
      "                 275           Physics       True  \n",
      "                 846           Physics       True  \n",
      "Science          274           Science       True  \n",
      "                 840           Science       True  \n",
      "                 786           Science       True  \n"
     ]
    }
   ],
   "source": [
    "top_3_students=pd.DataFrame(top_3_students)\n",
    "print(top_3_students)"
   ]
  },
  {
   "cell_type": "code",
   "execution_count": null,
   "id": "d746ff32",
   "metadata": {},
   "outputs": [
    {
     "name": "stdout",
     "output_type": "stream",
     "text": [
      "Gender               Female       Male\n",
      "Subject                               \n",
      "Biology           66.871897  62.946066\n",
      "Chemistry         69.806071  65.697288\n",
      "Computer Science  63.705882  65.314746\n",
      "English           65.685636  65.220758\n",
      "History           64.242982  65.673429\n",
      "Math              64.677674  65.832414\n",
      "Physics           65.507778  66.878814\n",
      "Science           66.510986  63.906027\n"
     ]
    }
   ],
   "source": [
    "student_pivot=pd.pivot_table(student_data,values='Grade',index='Subject',columns='Gender',aggfunc='mean')\n",
    "print(student_pivot)\n",
    "#pivot table of the average grade in each subject by gender"
   ]
  },
  {
   "cell_type": "code",
   "execution_count": null,
   "id": "bedf8741",
   "metadata": {},
   "outputs": [
    {
     "data": {
      "image/png": "[encoded data removed]",
      "text/plain": [
       "<Figure size 1000x400 with 1 Axes>"
      ]
     },
     "metadata": {},
     "output_type": "display_data"
    }
   ],
   "source": [
    "plt.figure(figsize=(10,4))\n",
    "avg_grade=student_data.groupby('Subject')['Grade'].mean().reset_index()\n",
    "plt.bar(avg_grade['Subject'],avg_grade['Grade'])\n",
    "plt.title(\"Average Grade by Subject\")\n",
    "plt.xlabel('Subject')\n",
    "plt.ylabel('Average Grade')\n",
    "plt.xticks(rotation=90)#rotates names 90 degrees\n",
    "\n",
    "plt.show()"
   ]
  },
  {
   "cell_type": "code",
   "execution_count": null,
   "id": "9dee4dfb",
   "metadata": {},
   "outputs": [
    {
     "data": {
      "image/png": "[encoded data removed]",
      "text/plain": [
       "<Figure size 640x480 with 1 Axes>"
      ]
     },
     "metadata": {},
     "output_type": "display_data"
    }
   ],
   "source": [
    "gender_count=student_data.Gender.value_counts()#has the number of each gender value\n",
    "\n",
    "plt.pie(gender_count,labels=gender_count)\n",
    "plt.title(\"Number of Males and Females\")\n",
    "\n",
    "plt.show()"
   ]
  },
  {
   "cell_type": "code",
   "execution_count": 97,
   "id": "195b4d5d",
   "metadata": {},
   "outputs": [
    {
     "data": {
      "image/png": "[encoded data removed]",
      "text/plain": [
       "<Figure size 640x480 with 1 Axes>"
      ]
     },
     "metadata": {},
     "output_type": "display_data"
    }
   ],
   "source": [
    "plt.scatter(student_data.Grade,student_data.Attendance)\n",
    "\n",
    "plt.title('Grade vs. Attendance')\n",
    "plt.show()"
   ]
  }
 ],
 "metadata": {
  "kernelspec": {
   "display_name": "base",
   "language": "python",
   "name": "python3"
  },
  "language_info": {
   "codemirror_mode": {
    "name": "ipython",
    "version": 3
   },
   "file_extension": ".py",
   "mimetype": "text/x-python",
   "name": "python",
   "nbconvert_exporter": "python",
   "pygments_lexer": "ipython3",
   "version": "3.12.4"
  }
 },
 "nbformat": 4,
 "nbformat_minor": 5
}
