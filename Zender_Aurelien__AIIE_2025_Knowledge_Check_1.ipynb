{
  "nbformat": 4,
  "nbformat_minor": 0,
  "metadata": {
    "colab": {
      "provenance": []
    },
    "kernelspec": {
      "name": "python3",
      "display_name": "Python 3"
    },
    "language_info": {
      "name": "python"
    }
  },
  "cells": [
    {
      "cell_type": "markdown",
      "metadata": {
        "id": "9Dj8pYHCHUMI"
      },
      "source": [
        "##Knowlwdge Check - 1\n"
      ]
    },
    {
      "cell_type": "markdown",
      "metadata": {
        "id": "hIzo8lkOm03D"
      },
      "source": [
        "### Printing output"
      ]
    },
    {
      "cell_type": "markdown",
      "metadata": {
        "id": "7AKKps5JXjPH"
      },
      "source": [
        "1 - Using print(), print your name and city following the format:\n",
        "\n",
        "        Name : Angela\n",
        "        City : New York\n"
      ]
    },
    {
      "cell_type": "code",
      "source": [
        "print(\"Name : Zender \\nCity : New York\")"
      ],
      "metadata": {
        "colab": {
          "base_uri": "https://localhost:8080/"
        },
        "id": "Hd4Yn55MAujb",
        "outputId": "69644129-c814-4c20-d369-38c9af927550"
      },
      "execution_count": 2,
      "outputs": [
        {
          "output_type": "stream",
          "name": "stdout",
          "text": [
            "Name : Zender \n",
            "City : New York\n"
          ]
        }
      ]
    },
    {
      "cell_type": "markdown",
      "metadata": {
        "id": "2vonbXOxXpQH"
      },
      "source": [
        "2 - Print the message below\n",
        "\n",
        "     Emergency Alert\n",
        "     NEWS : FLASH FLOOD WARNING this area till 7:00 PM"
      ]
    },
    {
      "cell_type": "code",
      "source": [
        "print(\"Emergency Alert\")\n",
        "print(\"NEWS : FLASH FLOOD WARNING this area till 7:00 PM\")"
      ],
      "metadata": {
        "id": "Ay7ERuiXA6pH"
      },
      "execution_count": null,
      "outputs": []
    },
    {
      "cell_type": "markdown",
      "metadata": {
        "id": "lRuqg-hamQGT"
      },
      "source": [
        "### Arithmetic Operators and Variables"
      ]
    },
    {
      "cell_type": "markdown",
      "metadata": {
        "id": "j1-O0lZgX3K1"
      },
      "source": [
        "3 - Take a number and divide it by 2, then take the output and divide it by 2, and again divide by 2. Use variables.\n",
        "\n",
        "\n",
        "    Example\n",
        "    input : 2000\n",
        "    output is: 1000 500 250\n",
        "\n"
      ]
    },
    {
      "cell_type": "code",
      "metadata": {
        "id": "3zsVDZcyl2l0",
        "colab": {
          "base_uri": "https://localhost:8080/"
        },
        "outputId": "971b8a21-fe9b-4708-9f96-f510bad18df0"
      },
      "source": [
        "num1=int(input(\"input : \"))\n",
        "num2=num1//2\n",
        "num3=num2//2\n",
        "num4=num3//2\n",
        "print(f\"output is: {num2} {num3} {num4}\")"
      ],
      "execution_count": 37,
      "outputs": [
        {
          "output_type": "stream",
          "name": "stdout",
          "text": [
            "input : 2000\n",
            "output is: 1000 500 250\n"
          ]
        }
      ]
    },
    {
      "cell_type": "markdown",
      "metadata": {
        "id": "deaFrnkLYGhJ"
      },
      "source": [
        "4 - Given three number x, y, and z,\n",
        "\n",
        "\n",
        "       Output: x to the power of z,\n",
        "               x to the power of y,\n",
        "               x minus y,\n",
        "               remainder value when x is divided by z"
      ]
    },
    {
      "cell_type": "code",
      "metadata": {
        "id": "4SZRBko7mvc-",
        "colab": {
          "base_uri": "https://localhost:8080/"
        },
        "outputId": "0a4fc71c-57e0-4866-8c32-762a96e77c3e"
      },
      "source": [
        "x=float(input(\"input x\"))\n",
        "y=float(input(\"input y\"))\n",
        "z=float(input(\"input z\"))\n",
        "print(x**z, x**y, x-y, x%z)"
      ],
      "execution_count": 7,
      "outputs": [
        {
          "output_type": "stream",
          "name": "stdout",
          "text": [
            "input x4\n",
            "input y2\n",
            "input z8\n",
            "65536.0 16.0 2.0 4.0\n"
          ]
        }
      ]
    },
    {
      "cell_type": "markdown",
      "metadata": {
        "id": "GE9xk6_TYcYN"
      },
      "source": [
        "5 - Add\n",
        "\n",
        "        4 quarters (0.25),  3 dimes (0.10), 2 nickels (0.5) and 1 cent\n",
        "        Output:  the total amount as dollars and cents."
      ]
    },
    {
      "cell_type": "code",
      "metadata": {
        "id": "UXZC9qSQsX9_",
        "colab": {
          "base_uri": "https://localhost:8080/"
        },
        "outputId": "c8f21722-8972-4cdc-9300-f347bc35b3cd"
      },
      "source": [
        "x=(4*0.25)+(3*0.1)+(2*0.05)+0.01\n",
        "print(f\"${x:.2f}\")\n",
        "\n"
      ],
      "execution_count": 10,
      "outputs": [
        {
          "output_type": "stream",
          "name": "stdout",
          "text": [
            "$1.41\n"
          ]
        }
      ]
    },
    {
      "cell_type": "markdown",
      "metadata": {
        "id": "O618MLtRtynL"
      },
      "source": [
        "### Strings"
      ]
    },
    {
      "cell_type": "markdown",
      "metadata": {
        "id": "iXtnKBx8Ywy_"
      },
      "source": [
        "6 - Given the string **Python**, with the help of slicing, get **o**."
      ]
    },
    {
      "cell_type": "code",
      "metadata": {
        "id": "EOD6mIiTtOzx",
        "colab": {
          "base_uri": "https://localhost:8080/"
        },
        "outputId": "086810d0-3095-4807-ccce-9ccf5ed7256b"
      },
      "source": [
        "print(\"Python\"[4])"
      ],
      "execution_count": 11,
      "outputs": [
        {
          "output_type": "stream",
          "name": "stdout",
          "text": [
            "o\n"
          ]
        }
      ]
    },
    {
      "cell_type": "markdown",
      "metadata": {
        "id": "mgnqbERkY3-J"
      },
      "source": [
        "7 - Given the string **Python**, with the help of slicing get,  **tho**."
      ]
    },
    {
      "cell_type": "code",
      "metadata": {
        "id": "7R58ftspuJK3",
        "colab": {
          "base_uri": "https://localhost:8080/"
        },
        "outputId": "c4159d8d-834a-4a36-938e-34e676ea3a06"
      },
      "source": [
        "print(\"Python\"[2:5])"
      ],
      "execution_count": 13,
      "outputs": [
        {
          "output_type": "stream",
          "name": "stdout",
          "text": [
            "tho\n"
          ]
        }
      ]
    },
    {
      "cell_type": "markdown",
      "metadata": {
        "id": "U2g51swGY9Hf"
      },
      "source": [
        "8 - Given the string **Python Class**, with the help of slicing, get **Class**."
      ]
    },
    {
      "cell_type": "code",
      "metadata": {
        "id": "sOUYJA0FuN78",
        "colab": {
          "base_uri": "https://localhost:8080/"
        },
        "outputId": "6b21e6b9-7fa3-49dc-f02f-4366ea19b2de"
      },
      "source": [
        "print(\"Python Class\"[7:])\n"
      ],
      "execution_count": 15,
      "outputs": [
        {
          "output_type": "stream",
          "name": "stdout",
          "text": [
            "Class\n"
          ]
        }
      ]
    },
    {
      "cell_type": "markdown",
      "metadata": {
        "id": "tLycBhPYZHsC"
      },
      "source": [
        "9 - Find the length of the String  **Welcome to Pace University**"
      ]
    },
    {
      "cell_type": "code",
      "metadata": {
        "id": "YIERKBvluUdA",
        "colab": {
          "base_uri": "https://localhost:8080/"
        },
        "outputId": "e101a5e8-20b2-4982-b920-cba650403e99"
      },
      "source": [
        "print(len(\"Welcome to Pace University\"))"
      ],
      "execution_count": 16,
      "outputs": [
        {
          "output_type": "stream",
          "name": "stdout",
          "text": [
            "26\n"
          ]
        }
      ]
    },
    {
      "cell_type": "markdown",
      "metadata": {
        "id": "l7SqRwF7ZNp8"
      },
      "source": [
        "10 - Split the String  **Welcome to Pace University**  into words"
      ]
    },
    {
      "cell_type": "code",
      "metadata": {
        "id": "1SBnxastueix",
        "colab": {
          "base_uri": "https://localhost:8080/"
        },
        "outputId": "8c1b3e4f-9588-45d8-fcba-c271c1c45d5c"
      },
      "source": [
        "str=\"Welcome to Pace University\"\n",
        "print(str.split())"
      ],
      "execution_count": 17,
      "outputs": [
        {
          "output_type": "stream",
          "name": "stdout",
          "text": [
            "['Welcome', 'to', 'Pace', 'University']\n"
          ]
        }
      ]
    },
    {
      "cell_type": "markdown",
      "metadata": {
        "id": "YK8s1_BYZSyO"
      },
      "source": [
        "11 - Replace the letter  **i**  with  **o**  in  **Artificial intelligence**"
      ]
    },
    {
      "cell_type": "code",
      "metadata": {
        "id": "EDO4NXUUuoOm",
        "colab": {
          "base_uri": "https://localhost:8080/",
          "height": 35
        },
        "outputId": "60aa32ed-2515-4d50-c75c-8a7aa71e79ca"
      },
      "source": [
        "str=\"Artificial Intelligence\"\n",
        "str.replace(\"i\",\"o\")"
      ],
      "execution_count": 18,
      "outputs": [
        {
          "output_type": "execute_result",
          "data": {
            "text/plain": [
              "'Artofocoal Intellogence'"
            ],
            "application/vnd.google.colaboratory.intrinsic+json": {
              "type": "string"
            }
          },
          "metadata": {},
          "execution_count": 18
        }
      ]
    },
    {
      "cell_type": "markdown",
      "metadata": {
        "id": "VLMrFwqhZeNz"
      },
      "source": [
        "12 - convert the text  **DATA Science**  into lower case ( as **data science**)"
      ]
    },
    {
      "cell_type": "code",
      "metadata": {
        "id": "T7NONPC-u94X",
        "colab": {
          "base_uri": "https://localhost:8080/"
        },
        "outputId": "ce0c19d9-31ce-4aea-e9d0-9a7c010f72f1"
      },
      "source": [
        "str=\"DATA Science\"\n",
        "print(str.lower())"
      ],
      "execution_count": 21,
      "outputs": [
        {
          "output_type": "stream",
          "name": "stdout",
          "text": [
            "data science\n"
          ]
        }
      ]
    },
    {
      "cell_type": "markdown",
      "metadata": {
        "id": "4EHx_9ycZkwh"
      },
      "source": [
        "13 - convert the text  **DATA Science**  into UPPER case ( as **DATA SCIENCE**)"
      ]
    },
    {
      "cell_type": "code",
      "metadata": {
        "id": "Tg1-wbUPvUYI"
      },
      "source": [
        "str=\"DATA Science\"\n",
        "print(str.upper())"
      ],
      "execution_count": null,
      "outputs": []
    },
    {
      "cell_type": "markdown",
      "metadata": {
        "id": "STL6BSOOZ44L"
      },
      "source": [
        "14 - reverse the given String  **Artificial intelligence**"
      ]
    },
    {
      "cell_type": "code",
      "metadata": {
        "id": "CJPPWcOgvdWN",
        "colab": {
          "base_uri": "https://localhost:8080/"
        },
        "outputId": "994fbac3-e89e-4808-ef10-4a172e9dda54"
      },
      "source": [
        "str=\"Artificial Intelligence\"\n",
        "str=str[::-1]\n",
        "print(str)"
      ],
      "execution_count": 34,
      "outputs": [
        {
          "output_type": "stream",
          "name": "stdout",
          "text": [
            "ecnegilletnI laicifitrA\n"
          ]
        }
      ]
    },
    {
      "cell_type": "markdown",
      "metadata": {
        "id": "TU_sm0SsoGXV"
      },
      "source": [
        "###Comparision Operators"
      ]
    },
    {
      "cell_type": "markdown",
      "metadata": {
        "id": "XJYziySoaAdz"
      },
      "source": [
        "15 - Compare two number a =150, b = 225 and print if they are:\n",
        "\n",
        "        equal,\n",
        "        greater,\n",
        "        greater than or equal to,\n",
        "        less,\n",
        "        less than or equal to,  \n",
        "        not equal\n",
        "       \n",
        "        example : a < b\n",
        "                  print(\"a is less than b\")"
      ]
    },
    {
      "cell_type": "code",
      "metadata": {
        "id": "4qFJzGo3wIsC",
        "colab": {
          "base_uri": "https://localhost:8080/"
        },
        "outputId": "426b6731-25e5-4677-8b91-22cbc01dd0a1"
      },
      "source": [
        "a=150\n",
        "b=225\n",
        "if a<b:\n",
        "  print(\"a is less than b\")"
      ],
      "execution_count": null,
      "outputs": [
        {
          "output_type": "stream",
          "name": "stdout",
          "text": [
            "a less than b\n"
          ]
        }
      ]
    },
    {
      "cell_type": "markdown",
      "metadata": {
        "id": "8kbRYQGy3fsq"
      },
      "source": [
        "###Lists"
      ]
    },
    {
      "cell_type": "markdown",
      "metadata": {
        "id": "UeK6ZxU53cZF"
      },
      "source": [
        "16 - Create a **list** of **lists** of integers elements"
      ]
    },
    {
      "cell_type": "code",
      "metadata": {
        "id": "GdMdQwi33cB5",
        "colab": {
          "base_uri": "https://localhost:8080/"
        },
        "outputId": "9ec06a4e-8700-402a-84dc-9f5846ec4c9a"
      },
      "source": [
        "list=[[1,2,3,4,5],[2,4,6,8,10],[5,10,15,20,25]]\n",
        "print(list)"
      ],
      "execution_count": 35,
      "outputs": [
        {
          "output_type": "stream",
          "name": "stdout",
          "text": [
            "[[1, 2, 3, 4, 5], [2, 4, 6, 8, 10], [5, 10, 15, 20, 25]]\n"
          ]
        }
      ]
    },
    {
      "cell_type": "markdown",
      "metadata": {
        "id": "pWriOAll3sCF"
      },
      "source": [
        "17 - Create a **list** of **lists** of Text elements"
      ]
    },
    {
      "cell_type": "code",
      "metadata": {
        "id": "eCXFxSi13rXa",
        "colab": {
          "base_uri": "https://localhost:8080/"
        },
        "outputId": "bb9fa993-e341-40e0-89e3-7ef701f96de0"
      },
      "source": [
        "list=[[\"hi\"],[\"my\"],[\"name\"],[\"is\"],[\"Zender\"]]\n",
        "print(list)"
      ],
      "execution_count": 36,
      "outputs": [
        {
          "output_type": "stream",
          "name": "stdout",
          "text": [
            "[['hi'], ['my'], ['name'], ['is'], ['Zender']]\n"
          ]
        }
      ]
    },
    {
      "cell_type": "markdown",
      "metadata": {
        "id": "8zC2JP7i3ubU"
      },
      "source": []
    }
  ]
}